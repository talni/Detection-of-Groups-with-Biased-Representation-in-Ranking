{
 "cells": [
  {
   "cell_type": "code",
   "execution_count": 1,
   "metadata": {
    "collapsed": true
   },
   "outputs": [],
   "source": [
    "import copy\n",
    "\n",
    "import pandas as pd\n",
    "import sys\n",
    "import math\n",
    "\n",
    "sys.path.append('../Coding')\n",
    "from itertools import combinations\n",
    "from Algorithms import pattern_count\n",
    "import time\n",
    "from Algorithms import NewAlgRanking_19_20211216 as newalg\n",
    "from Algorithms import NaiveAlgRanking_4_20211213 as naivealg\n",
    "import numpy as np\n",
    "import copy\n",
    "import sys\n",
    "import math\n",
    "from sklearn.linear_model import LinearRegression\n",
    "import shap\n",
    "import matplotlib.pyplot as plt\n",
    "import seaborn as sns\n",
    "from matplotlib.ticker import FuncFormatter\n",
    "\n",
    "from Algorithms import NewAlgRanking_definition2_13_20220509 as newalg2\n",
    "from Algorithms import NaiveAlgRanking_definition2_5_20220506 as naivealg2\n",
    "\n",
    "plt.rc('text', usetex=True)\n",
    "plt.rc('font', family='serif')\n",
    "plt.rcParams['font.size'] = '22'\n",
    "\n",
    "sns.set_palette(\"Paired\")\n",
    "# sns.set_palette(\"deep\")\n",
    "sns.set_context(\"poster\", font_scale=2)\n",
    "sns.set_style(\"whitegrid\")\n",
    "# sns.palplot(sns.color_palette(\"deep\", 10))\n",
    "# sns.palplot(sns.color_palette(\"Paired\", 9))\n",
    "\n",
    "line_style = ['o-', 's--', '^:', '-.p']\n",
    "color = ['C0', 'C1', 'C2', 'C3', 'C4', 'C5', 'C6', 'C7', 'C8']\n",
    "# plt_title = [\"BlueNile\", \"COMPAS\", \"Credit Card\"]\n",
    "#\n",
    "# label = [\"PropBounds\", \"IterTD\"]\n",
    "line_width = 8\n",
    "marker_size = 20\n",
    "# f_size = (18, 16)\n",
    "FONTSIZE=50"
   ]
  },
  {
   "cell_type": "code",
   "execution_count": 2,
   "outputs": [],
   "source": [
    "def string2num(st):\n",
    "    p = list()\n",
    "    idx = 0\n",
    "    item = ''\n",
    "    i = ''\n",
    "    for i in st:\n",
    "        if i == '|':\n",
    "            if item == '':\n",
    "                p.append(-1)\n",
    "            else:\n",
    "                p.append(int(item))\n",
    "                item = ''\n",
    "            idx += 1\n",
    "        else:\n",
    "            item += i\n",
    "    if i != '|':\n",
    "        p.append(int(item))\n",
    "    else:\n",
    "        p.append(-1)\n",
    "    return p\n",
    "\n",
    "\n",
    "def P1DominatedByP2(P1, P2):\n",
    "    length = len(P1)\n",
    "    for i in range(length):\n",
    "        if P1[i] == -1:\n",
    "            if P2[i] != -1:\n",
    "                return False\n",
    "        if P1[i] != -1:\n",
    "            if P2[i] != P1[i] and P2[i] != -1:\n",
    "                return False\n",
    "    return True\n",
    "\n",
    "def idx_of_tuples_in_group(group, data):\n",
    "    def belong_to_group(row):\n",
    "        nonlocal group\n",
    "        if P1DominatedByP2(row, group):\n",
    "            return True\n",
    "        else:\n",
    "            return False\n",
    "    data[\"in\"] = data.apply(belong_to_group, axis=1)\n",
    "    return data[data[\"in\"] == True].index\n",
    "\n",
    "def average_shapley_values_of_group(data, group, all_attributes, shap_values):\n",
    "    # get all tuples in this group\n",
    "    data1 = data[all_attributes].copy(deep=True)\n",
    "    tuples_idx = idx_of_tuples_in_group(group, data1).to_list()\n",
    "    if len(tuples_idx) == 0:\n",
    "        # output_file.write(\"\\ngroup {} size {}\\n\".format(group, len(tuples_idx)))\n",
    "        print(\"group {} size {}\".format(group, len(tuples_idx)))\n",
    "        return []\n",
    "    else:\n",
    "        # print(tuples_idx, len(tuples_idx))\n",
    "        # for id in tuples_idx:\n",
    "        #     print(id, shap_values.values[id])\n",
    "        avg = np.average(shap_values.values[tuples_idx], axis=0)\n",
    "        # print(np.sum(shap_values.values[tuples_idx], axis=0))\n",
    "        # output_file.write(\"\\ngroup {} size {}\\n\".format(group, len(tuples_idx)))\n",
    "        # output_file.write(str(avg))\n",
    "        print(\"group {} size {}\".format(group, len(tuples_idx)))\n",
    "        # print(avg)\n",
    "        return list(avg)\n",
    "\n",
    "\n",
    "def idx_of_tuples_in_group_w_attribute(group, data, att, value):\n",
    "    def belong_to_group(row):\n",
    "        nonlocal group\n",
    "        if P1DominatedByP2(row, group):\n",
    "            if row[att] == value:\n",
    "                return True\n",
    "            else:\n",
    "                return False\n",
    "        else:\n",
    "            return False\n",
    "    data[\"in\"] = data.apply(belong_to_group, axis=1)\n",
    "    idx = data[data[\"in\"] == True].index\n",
    "    data.drop(columns=[\"in\"], axis=1, inplace=True)\n",
    "    return idx\n",
    "\n",
    "\n",
    "def shapley_values_att_value_seperated(data, group, all_attributes, shap_values, output_file):\n",
    "    # get all tuples in this group\n",
    "    data1 = data[all_attributes].copy(deep=True)\n",
    "    att_idx = 0\n",
    "    for att in all_attributes:\n",
    "        for v in range(int(data1.describe()[att][\"min\"]), int(data1.describe()[att][\"max\"]) + 1):\n",
    "            tuples_idx = idx_of_tuples_in_group_w_attribute(group, data1, att, v).to_list()\n",
    "            if len(tuples_idx) == 0:\n",
    "                output_file.write(\"group {} att {} = {} size {}\\n\".format(group, att, v, len(tuples_idx)))\n",
    "                print(\"group {} att {} = {} size {}\".format(group, att, v, len(tuples_idx)))\n",
    "            else:\n",
    "                values_of_group = shap_values.values[tuples_idx]\n",
    "                avg = np.average(values_of_group, axis=0)\n",
    "                print(\"group {} att {} = {} size {}\\n avg {}\".format(group, att, v, len(tuples_idx), avg))\n",
    "                output_file.write(\"group {} att {} = {} size {} avg {}\\n\".format(group, att, v, len(tuples_idx), avg[att_idx]))\n",
    "        att_idx += 1\n",
    "\n",
    "def tuples_in_group(g, data, selected_attributes):\n",
    "    tuple_idx = idx_of_tuples_in_group(g, data[selected_attributes].copy(deep=True))\n",
    "    tuples = data.iloc[tuple_idx]\n",
    "    return tuples\n",
    "\n",
    "def tuples_not_in_group(g, data, selected_attributes):\n",
    "    tuple_idx = idx_of_tuples_in_group(g, data[selected_attributes].copy(deep=True))\n",
    "    return data.drop(tuple_idx)\n",
    "\n",
    "def check_another_group_global_bounds(g, data, selected_attributes, thc, Lowerbounds, k):\n",
    "    size_whole_data = len(tuples_in_group(g, data, selected_attributes))\n",
    "    if size_whole_data < thc:\n",
    "        print(\"group g size too small\", size_whole_data)\n",
    "        return False\n",
    "    size_topk = len(tuples_in_group(g, data[:k], selected_attributes))\n",
    "    if size_topk < Lowerbounds[0]:\n",
    "        print(\"group g doesn't have enough representation in top k\", size_topk)\n",
    "        return False\n",
    "    return True\n",
    "\n",
    "\n",
    "def check_another_group_prop_bounds(g, data, selected_attributes, thc, alpha, k):\n",
    "    size_whole_data = len(tuples_in_group(g, data, selected_attributes))\n",
    "    if size_whole_data < thc:\n",
    "        print(\"group g size too small\", size_whole_data)\n",
    "        return False\n",
    "    size_topk = len(tuples_in_group(g, data[:k], selected_attributes))\n",
    "    lowerbound = alpha * size_whole_data * k / len(data)\n",
    "    print(size_whole_data, size_topk, lowerbound)\n",
    "    if size_topk < lowerbound:\n",
    "        print(\"group g doesn't have enough representation in top k\", size_topk)\n",
    "        return False\n",
    "    return True\n",
    "\n",
    "def plot_distribution_number(ranked_data, attribute, group, another_group, k):\n",
    "    x_list = ranked_data[attribute].unique()\n",
    "    x_list.sort()\n",
    "    tuples = tuples_in_group(group, ranked_data, selected_attributes)\n",
    "    s = tuples[attribute].value_counts().sort_index()\n",
    "    group_value_dis = [s[i] if i in s else 0 for i in x_list]\n",
    "    s = ranked_data[attribute].value_counts().sort_index()\n",
    "    whole_data_dis = [s[i] if i in s else 0 for i in x_list]\n",
    "    s = tuples_not_in_group(group, ranked_data, selected_attributes)[attribute].value_counts().sort_index()\n",
    "    other_data_dis = [s[i] if i in s else 0 for i in x_list]\n",
    "    s = tuples_in_group(another_group, ranked_data, selected_attributes)[attribute].value_counts().sort_index()\n",
    "    total = sum(s)\n",
    "    another_group_dis = [s[i] if i in s else 0 for i in x_list]\n",
    "\n",
    "\n",
    "    s = ranked_data[:k][attribute].value_counts().sort_index()\n",
    "    topkdis = [s[i] if i in s else 0 for i in x_list]\n",
    "\n",
    "    index = np.arange(len(x_list))\n",
    "    bar_width = 0.2\n",
    "\n",
    "    fig, ax = plt.subplots(1, 1, figsize=(20, 8))\n",
    "\n",
    "    index = np.arange(len(x_list))\n",
    "    plt.bar(index, group_value_dis, bar_width, color=color[0], label=\"group\")\n",
    "    plt.bar(index + bar_width, whole_data_dis, bar_width,  color=color[2], label=\"whole data\")\n",
    "    plt.bar(index + bar_width * 2, other_data_dis, bar_width,  color=color[4], label=\"other data\")\n",
    "    plt.bar(index + bar_width * 3, another_group_dis, bar_width,  color=color[6], label=\"non-problematic group\")\n",
    "    plt.bar(index + bar_width * 4, topkdis, bar_width,  color=color[8], label=\"topk\")\n",
    "    # plt.xticks(index + bar_width, x_list)\n",
    "    # plt.xticks(index, x_list)\n",
    "\n",
    "    plt.ylabel('number of tuples')\n",
    "    plt.xlabel('value of attribute ' + attribute)\n",
    "    # plt.yscale('log')\n",
    "    plt.legend(loc='best', fontsize=25)\n",
    "\n",
    "    plt.tight_layout()\n",
    "    # plt.savefig(\"adult_time.png\", bbox_inches='tight')\n",
    "    plt.show()\n",
    "\n"
   ],
   "metadata": {
    "collapsed": false
   }
  },
  {
   "cell_type": "code",
   "execution_count": 12,
   "outputs": [],
   "source": [
    "\n",
    "def plot_distribution_ratio(ranked_data, attribute, original_att, group, group_name, k, axis):\n",
    "    x_list = ranked_data[attribute].unique()\n",
    "    x_list.sort()\n",
    "    print(x_list)\n",
    "\n",
    "    tuples = tuples_in_group(group, ranked_data, selected_attributes)\n",
    "    s = tuples[attribute].value_counts().sort_index()\n",
    "    total = sum(s)\n",
    "    group_value_dis = [s[i]/total if i in s else 0 for i in x_list]\n",
    "\n",
    "    s = ranked_data[:k][attribute].value_counts().sort_index()\n",
    "    total = sum(s)\n",
    "    topkdis = [s[i]/total if i in s else 0 for i in x_list]\n",
    "\n",
    "    bar_width = 0.45\n",
    "    index = np.arange(len(x_list))\n",
    "    print(index)\n",
    "    axis.bar(index, group_value_dis, bar_width, color=color[3], label=group_name)\n",
    "    axis.bar(index + bar_width, topkdis, bar_width,  color=color[7], label=\"top-k\")\n",
    "    # plt.xticks(index + bar_width, x_list)\n",
    "    # plt.xticks(range(x_list[0], x_list[-1]+1))\n",
    "    # index2 = [0, 2, 4, 6, 8, 10, 12, 14, 16, 18]\n",
    "    axis.set_xticks([0,1,2,3],[0,1,2,3], fontsize=FONTSIZE)\n",
    "    axis.set_yticks([0.0,0.5,1.0], [0.0,0.5,1.0], fontsize=FONTSIZE)\n",
    "    axis.set_ylabel('Proportion', fontsize=FONTSIZE)\n",
    "    axis.set_xlabel('Value of '+ original_att, fontsize=FONTSIZE)\n",
    "    axis.legend(loc='upper left', fontsize=40, bbox_to_anchor=(-0.02, 1.04))\n",
    "    # plt.tight_layout()\n",
    "    # plt.savefig(\"adult_time.png\", bbox_inches='tight')\n",
    "    # plt.show()\n",
    "    return axis\n"
   ],
   "metadata": {
    "collapsed": false
   }
  },
  {
   "cell_type": "code",
   "execution_count": 4,
   "outputs": [],
   "source": [
    "\n",
    "def plot_average_shap_value_of_group(data, group, selected_attributes, all_attributes_original, shap_values, axis):\n",
    "    s = average_shapley_values_of_group(data, group, selected_attributes, shap_values)\n",
    "\n",
    "    df=pd.DataFrame({'Attribute':all_attributes_original, 'Shapley values':s})\n",
    "    df.sort_values(by='Shapley values',key=abs, inplace=True,ascending=False)\n",
    "\n",
    "    small_shap_values = df[6:]\n",
    "    summary_shap_values = df[:6]\n",
    "\n",
    "    summary_shap_values = summary_shap_values.append({'Attribute': 'other positive Shapley values', 'Shapley values': sum([x if x > 0 else 0 for x in small_shap_values['Shapley values']])}, ignore_index=True)\n",
    "    summary_shap_values = summary_shap_values.append({'Attribute': 'other negative Shapley values', 'Shapley values': sum([x if x < 0 else 0 for x in small_shap_values['Shapley values']])}, ignore_index=True)\n",
    "\n",
    "    print(summary_shap_values)\n",
    "\n",
    "    summary_shap_values = summary_shap_values[::-1]\n",
    "    # summary_shap_values.plot(kind='barh',x='Attribute',y='Shapley values',color=[color[4] if t > 0 else color[0] for t in summary_shap_values['Shapley values']], figsize=(18, 16), legend=False, fontsize=FONTSIZE, ax=axis)\n",
    "    summary_shap_values.plot(kind='barh',x='Attribute',y='Shapley values',color=[color[4] if t > 0 else color[0] for t in summary_shap_values['Shapley values']], legend=False, fontsize=FONTSIZE, ax=axis)\n",
    "    axis.set_ylabel('Attribute', fontsize=FONTSIZE)\n",
    "    axis.set_xticks([-25, 0, 25], fontsize=FONTSIZE)\n",
    "    # plt.show()\n",
    "    # plt.xlabel('Shapley values', fontsize=FONTSIZE)\n",
    "    # plt.ylabel('Attribute', fontsize=FONTSIZE)\n",
    "    # plt.tight_layout()\n",
    "    # fig.set(xlabel='Shapley values')\n",
    "    # return plt\n",
    "\n"
   ],
   "metadata": {
    "collapsed": false
   }
  },
  {
   "cell_type": "markdown",
   "source": [
    "# german data"
   ],
   "metadata": {
    "collapsed": false
   }
  },
  {
   "cell_type": "code",
   "execution_count": 5,
   "outputs": [],
   "source": [
    "\n",
    "\n",
    "all_attributes = ['StatusExistingAcc', 'DurationMonth_C', 'CreditHistory', 'Purpose', 'CreditAmount_C',\n",
    "                  'SavingsAccount', 'EmploymentLength', 'InstallmentRate', 'MarriedNSex', 'Debtors',\n",
    "                  'ResidenceLength', 'Property', 'Age_C', 'InstallmentPlans', 'Housing',\n",
    "                  'ExistingCredit', 'Job', 'NumPeopleLiable', 'Telephone', 'ForeignWorker']\n",
    "\n",
    "\n",
    "all_attributes_original = ['StatusExistingAcc','DurationMonth_x','CreditHistory','Purpose','CreditAmount_x','SavingsAccount','EmploymentLength','InstallmentRate','MarriedNSex','Debtors','ResidenceLength','Property','Age','InstallmentPlans','Housing','ExistingCredit','Job','NumPeopleLiable','Telephone','ForeignWorker']\n",
    "\n",
    "\n",
    "all_attributes_meaningful_names = ['status of existing account', 'duration in month', 'credit history', 'purpose', 'credit amount', 'savings account/bonds', 'employment length', 'installment rate', 'personal status and sex', 'other debtors / guarantors', 'residence length', 'property', 'age', 'other installment plans', 'housing', 'existing credits at this bank', 'job', 'number of people liable', 'registered telephone', 'foreign worker']\n",
    "\n",
    "\n",
    "original_data_file = r\"../../../InputData/GermanCredit/GermanCredit_allatt_ranked.csv\"\n",
    "\n",
    "ranked_data = pd.read_csv(original_data_file, index_col=False)\n",
    "\n",
    "# scoring attributes:\n",
    "# I guess they are 'DurationMonth_C', 'CreditAmount_C'\n"
   ],
   "metadata": {
    "collapsed": false
   }
  },
  {
   "cell_type": "code",
   "execution_count": 6,
   "outputs": [
    {
     "name": "stdout",
     "output_type": "stream",
     "text": [
      "50\n",
      "[11, -1, -1, -1, -1, -1, -1, -1, -1, -1, -1, -1, -1, -1, -1]\n",
      "[12, -1, -1, -1, -1, -1, -1, -1, -1, -1, -1, -1, -1, -1, -1]\n",
      "[13, -1, -1, -1, -1, -1, -1, -1, -1, -1, -1, -1, -1, -1, -1]\n",
      "[14, -1, -1, -1, -1, -1, -1, -1, -1, -1, -1, -1, -1, -1, -1]\n",
      "[-1, 1, -1, -1, -1, -1, -1, -1, -1, -1, -1, -1, -1, -1, -1]\n",
      "[-1, 2, -1, -1, -1, -1, -1, -1, -1, -1, -1, -1, -1, -1, -1]\n",
      "[-1, -1, 32, -1, -1, -1, -1, -1, -1, -1, -1, -1, -1, -1, -1]\n",
      "[-1, -1, 33, -1, -1, -1, -1, -1, -1, -1, -1, -1, -1, -1, -1]\n",
      "[-1, -1, 34, -1, -1, -1, -1, -1, -1, -1, -1, -1, -1, -1, -1]\n",
      "[-1, -1, -1, 0, -1, -1, -1, -1, -1, -1, -1, -1, -1, -1, -1]\n",
      "[-1, -1, -1, 1, -1, -1, -1, -1, -1, -1, -1, -1, -1, -1, -1]\n",
      "[-1, -1, -1, 2, -1, -1, -1, -1, -1, -1, -1, -1, -1, -1, -1]\n",
      "[-1, -1, -1, 3, -1, -1, -1, -1, -1, -1, -1, -1, -1, -1, -1]\n",
      "[-1, -1, -1, 6, -1, -1, -1, -1, -1, -1, -1, -1, -1, -1, -1]\n",
      "[-1, -1, -1, 9, -1, -1, -1, -1, -1, -1, -1, -1, -1, -1, -1]\n",
      "[-1, -1, -1, -1, 1, -1, -1, -1, -1, -1, -1, -1, -1, -1, -1]\n",
      "[-1, -1, -1, -1, 2, -1, -1, -1, -1, -1, -1, -1, -1, -1, -1]\n",
      "[-1, -1, -1, -1, 3, -1, -1, -1, -1, -1, -1, -1, -1, -1, -1]\n",
      "[-1, -1, -1, -1, -1, 61, -1, -1, -1, -1, -1, -1, -1, -1, -1]\n",
      "[-1, -1, -1, -1, -1, 62, -1, -1, -1, -1, -1, -1, -1, -1, -1]\n",
      "[-1, -1, -1, -1, -1, 63, -1, -1, -1, -1, -1, -1, -1, -1, -1]\n",
      "[-1, -1, -1, -1, -1, 65, -1, -1, -1, -1, -1, -1, -1, -1, -1]\n",
      "[-1, -1, -1, -1, -1, -1, 71, -1, -1, -1, -1, -1, -1, -1, -1]\n",
      "[-1, -1, -1, -1, -1, -1, 72, -1, -1, -1, -1, -1, -1, -1, -1]\n",
      "[-1, -1, -1, -1, -1, -1, 73, -1, -1, -1, -1, -1, -1, -1, -1]\n",
      "[-1, -1, -1, -1, -1, -1, 74, -1, -1, -1, -1, -1, -1, -1, -1]\n",
      "[-1, -1, -1, -1, -1, -1, -1, 1, -1, -1, -1, -1, -1, -1, -1]\n",
      "[-1, -1, -1, -1, -1, -1, -1, 2, -1, -1, -1, -1, -1, -1, -1]\n",
      "[-1, -1, -1, -1, -1, -1, -1, 3, -1, -1, -1, -1, -1, -1, -1]\n",
      "[-1, -1, -1, -1, -1, -1, -1, 4, -1, -1, -1, -1, -1, -1, -1]\n",
      "[-1, -1, -1, -1, -1, -1, -1, -1, 91, -1, -1, -1, -1, -1, -1]\n",
      "[-1, -1, -1, -1, -1, -1, -1, -1, 92, -1, -1, -1, -1, -1, -1]\n",
      "[-1, -1, -1, -1, -1, -1, -1, -1, 93, -1, -1, -1, -1, -1, -1]\n",
      "[-1, -1, -1, -1, -1, -1, -1, -1, 94, -1, -1, -1, -1, -1, -1]\n",
      "[-1, -1, -1, -1, -1, -1, -1, -1, -1, 103, -1, -1, -1, -1, -1]\n",
      "[-1, -1, -1, -1, -1, -1, -1, -1, -1, -1, 1, -1, -1, -1, -1]\n",
      "[-1, -1, -1, -1, -1, -1, -1, -1, -1, -1, 2, -1, -1, -1, -1]\n",
      "[-1, -1, -1, -1, -1, -1, -1, -1, -1, -1, 3, -1, -1, -1, -1]\n",
      "[-1, -1, -1, -1, -1, -1, -1, -1, -1, -1, -1, 121, -1, -1, -1]\n",
      "[-1, -1, -1, -1, -1, -1, -1, -1, -1, -1, -1, 122, -1, -1, -1]\n",
      "[-1, -1, -1, -1, -1, -1, -1, -1, -1, -1, -1, 123, -1, -1, -1]\n",
      "[-1, -1, -1, -1, -1, -1, -1, -1, -1, -1, -1, 124, -1, -1, -1]\n",
      "[-1, -1, -1, -1, -1, -1, -1, -1, -1, -1, -1, -1, 1, -1, -1]\n",
      "[-1, -1, -1, -1, -1, -1, -1, -1, -1, -1, -1, -1, 2, -1, -1]\n",
      "[-1, -1, -1, -1, -1, -1, -1, -1, -1, -1, -1, -1, 3, -1, -1]\n",
      "[-1, -1, -1, -1, -1, -1, -1, -1, -1, -1, -1, -1, -1, 141, -1]\n",
      "[-1, -1, -1, -1, -1, -1, -1, -1, -1, -1, -1, -1, -1, 143, -1]\n",
      "[-1, -1, -1, -1, -1, -1, -1, -1, -1, -1, -1, -1, -1, -1, 151]\n",
      "[-1, -1, -1, -1, -1, -1, -1, -1, -1, -1, -1, -1, -1, -1, 152]\n",
      "[-1, -1, -1, -1, -1, -1, -1, -1, -1, -1, -1, -1, -1, -1, 153]\n"
     ]
    }
   ],
   "source": [
    "\n",
    "selected_attributes = all_attributes[:15]\n",
    "\n",
    "k = 49\n",
    "k_min = k\n",
    "k_max = k\n",
    "thc = 50\n",
    "Lowerbounds = [40]\n",
    "time_limit = 5*60\n",
    "result_global_bounds, num_patterns_visited1_, t1_ \\\n",
    "    = newalg.GraphTraverse(\n",
    "    ranked_data[selected_attributes].copy(deep=True), selected_attributes, thc,\n",
    "    Lowerbounds,\n",
    "    k_min, k_max, time_limit)\n",
    "groups_global_bounds = result_global_bounds[0]\n",
    "print(len(groups_global_bounds))\n",
    "for g in groups_global_bounds:\n",
    "    print(g)\n"
   ],
   "metadata": {
    "collapsed": false
   }
  },
  {
   "cell_type": "code",
   "execution_count": 7,
   "outputs": [
    {
     "name": "stdout",
     "output_type": "stream",
     "text": [
      "time for k_min = 1.3936898708343506\n",
      "finish kmin\n",
      "[-1, -1, -1, -1, -1, -1, -1, -1, -1, -1, 3, -1, -1, -1, -1]\n",
      "[-1, 2, -1, -1, -1, 61, -1, -1, -1, -1, -1, -1, -1, -1, 152]\n",
      "[-1, -1, 32, -1, -1, -1, -1, -1, -1, -1, -1, -1, -1, -1, -1]\n",
      "[-1, -1, 34, -1, -1, -1, -1, -1, -1, -1, -1, 122, -1, -1, -1]\n",
      "[-1, 1, -1, -1, -1, -1, -1, -1, -1, -1, -1, -1, -1, -1, -1]\n",
      "[-1, -1, -1, -1, -1, -1, -1, -1, -1, -1, -1, -1, -1, -1, 151]\n",
      "[-1, -1, -1, -1, -1, -1, 71, -1, -1, -1, -1, -1, -1, -1, -1]\n",
      "[-1, -1, -1, -1, -1, -1, 74, -1, -1, -1, -1, -1, -1, -1, -1]\n",
      "[-1, -1, -1, -1, -1, -1, -1, 3, -1, -1, -1, -1, -1, -1, -1]\n",
      "[-1, -1, -1, -1, -1, -1, -1, -1, -1, -1, 2, -1, -1, -1, -1]\n",
      "[-1, -1, -1, -1, -1, -1, -1, -1, -1, -1, -1, -1, -1, 141, 152]\n",
      "[-1, -1, -1, -1, 1, -1, -1, -1, -1, -1, -1, -1, -1, -1, -1]\n",
      "[-1, -1, -1, -1, -1, -1, -1, -1, 93, 101, -1, 122, -1, 143, -1]\n",
      "[-1, -1, -1, -1, -1, -1, -1, -1, 91, -1, -1, -1, -1, -1, -1]\n",
      "[-1, -1, -1, -1, -1, -1, -1, -1, -1, -1, -1, 123, -1, -1, -1]\n",
      "[14, -1, -1, -1, -1, 61, -1, -1, -1, -1, -1, -1, -1, 143, -1]\n",
      "[-1, -1, -1, 2, -1, -1, -1, -1, -1, -1, -1, -1, -1, -1, -1]\n",
      "[-1, -1, -1, 3, -1, -1, -1, -1, -1, -1, -1, -1, -1, -1, -1]\n",
      "[11, -1, -1, 0, -1, -1, -1, -1, -1, -1, -1, -1, -1, 143, -1]\n",
      "[11, -1, -1, 0, -1, -1, -1, -1, -1, -1, -1, -1, -1, -1, 152]\n",
      "[-1, -1, -1, -1, -1, 63, -1, -1, -1, -1, -1, -1, -1, -1, -1]\n",
      "[-1, -1, -1, -1, -1, 65, -1, -1, -1, -1, -1, 122, -1, -1, -1]\n",
      "[-1, -1, -1, -1, -1, -1, 72, -1, -1, -1, -1, -1, -1, -1, -1]\n",
      "[11, -1, -1, -1, -1, -1, -1, -1, 93, 101, -1, -1, -1, -1, 152]\n",
      "[-1, -1, -1, 0, -1, -1, -1, -1, -1, -1, -1, 122, -1, -1, -1]\n",
      "[14, -1, -1, 0, -1, -1, -1, -1, -1, -1, -1, -1, -1, 143, -1]\n",
      "[-1, -1, -1, -1, 2, -1, -1, -1, -1, -1, -1, -1, -1, 143, -1]\n",
      "[-1, 2, -1, -1, 3, -1, -1, -1, -1, -1, -1, -1, -1, -1, 152]\n",
      "[-1, -1, -1, -1, -1, 62, -1, -1, 93, -1, -1, -1, -1, -1, -1]\n",
      "[13, -1, -1, -1, -1, -1, -1, -1, -1, -1, -1, -1, -1, -1, -1]\n",
      "[-1, -1, -1, -1, -1, -1, -1, -1, -1, -1, -1, 121, -1, -1, -1]\n",
      "[-1, -1, -1, -1, -1, -1, 73, -1, -1, -1, -1, -1, -1, -1, -1]\n",
      "[-1, -1, -1, -1, -1, -1, -1, -1, 92, -1, -1, -1, -1, -1, -1]\n",
      "[11, -1, -1, -1, -1, 61, -1, -1, 93, -1, -1, -1, -1, 143, 152]\n",
      "[-1, -1, -1, -1, -1, -1, -1, -1, -1, 103, -1, -1, -1, -1, -1]\n",
      "[12, -1, -1, -1, -1, -1, -1, -1, -1, -1, -1, -1, -1, -1, -1]\n",
      "[14, -1, -1, -1, -1, -1, -1, -1, -1, 101, -1, -1, -1, 143, -1]\n",
      "[-1, -1, -1, -1, -1, -1, -1, 4, -1, -1, -1, -1, -1, -1, -1]\n",
      "[-1, -1, -1, -1, -1, -1, -1, -1, 94, -1, -1, -1, -1, -1, -1]\n",
      "[-1, -1, -1, 0, -1, 61, -1, -1, -1, -1, -1, -1, -1, 143, -1]\n",
      "[-1, -1, -1, -1, -1, -1, -1, -1, -1, -1, -1, -1, 1, -1, -1]\n",
      "[-1, -1, -1, -1, -1, -1, -1, -1, -1, -1, 1, -1, -1, -1, -1]\n"
     ]
    }
   ],
   "source": [
    "selected_attributes = all_attributes[:15]\n",
    "\n",
    "alpha = 0.8\n",
    "k = 49\n",
    "k_min = k\n",
    "k_max = k\n",
    "thc = 50\n",
    "time_limit = 5*60\n",
    "result_prop_bounds, num_patterns_visited1_, t1_ \\\n",
    "            = newalg2.GraphTraverse(\n",
    "            ranked_data[selected_attributes], selected_attributes, thc,\n",
    "            alpha,\n",
    "            k_min, k_max, time_limit)\n",
    "groups_prop_bounds = [string2num(k) for k in result_prop_bounds[0]]\n",
    "for g in groups_prop_bounds:\n",
    "    print(g)\n"
   ],
   "metadata": {
    "collapsed": false
   }
  },
  {
   "cell_type": "code",
   "execution_count": 8,
   "outputs": [
    {
     "name": "stdout",
     "output_type": "stream",
     "text": [
      "Model coefficients:\n",
      "\n",
      "status of existing account = 1.02892\n",
      "duration in month = -7.69706\n",
      "credit history = -1.67776\n",
      "purpose = 0.21613\n",
      "credit amount = 0.02836\n",
      "savings account/bonds = -3.07535\n",
      "employment length = -138.60979\n",
      "installment rate = 85.59534\n",
      "personal status and sex = 3.658\n",
      "other debtors / guarantors = -3.55393\n",
      "residence length = -137.03179\n",
      "property = -2.12906\n",
      "age = 0.04175\n",
      "other installment plans = 3.62685\n",
      "housing = 2.02781\n",
      "existing credits at this bank = -122.56853\n",
      "job = -58.15301\n",
      "number of people liable = 0.69062\n",
      "registered telephone = 0.45191\n",
      "foreign worker = 16.13113\n"
     ]
    },
    {
     "name": "stderr",
     "output_type": "stream",
     "text": [
      "Permutation explainer: 1001it [00:24, 28.29it/s]                         \n"
     ]
    },
    {
     "data": {
      "text/plain": ".values =\narray([[-7.20243092e-01, -1.25308161e+02, -5.53661256e-01, ...,\n        -8.28744065e-02,  2.80186737e-01, -9.67867736e-01],\n       [-1.74916179e+00, -5.60346077e+01, -2.23142264e+00, ...,\n         6.07745647e-01,  2.80186737e-01, -9.67867736e-01],\n       [-1.74916179e+00,  1.32389458e+01, -2.23142264e+00, ...,\n        -8.28744065e-02,  2.80186737e-01, -9.67867736e-01],\n       ...,\n       [-1.74916179e+00,  1.32389458e+01,  1.12410013e+00, ...,\n        -8.28744065e-02, -1.71727355e-01, -9.67867736e-01],\n       [-1.74916179e+00,  1.32389458e+01,  1.12410013e+00, ...,\n        -8.28744065e-02, -1.71727355e-01, -9.67867736e-01],\n       [-7.20243092e-01,  1.05603684e+02,  1.12410013e+00, ...,\n        -8.28744065e-02,  2.80186737e-01, -9.67867736e-01]])\n\n.base_values =\narray([522.47580711, 522.47580711, 522.47580711, 522.47580711,\n       522.47580711, 522.47580711, 522.47580711, 522.47580711,\n       522.47580711, 522.47580711, 522.47580711, 522.47580711,\n       522.47580711, 522.47580711, 522.47580711, 522.47580711,\n       522.47580711, 522.47580711, 522.47580711, 522.47580711,\n       522.47580711, 522.47580711, 522.47580711, 522.47580711,\n       522.47580711, 522.47580711, 522.47580711, 522.47580711,\n       522.47580711, 522.47580711, 522.47580711, 522.47580711,\n       522.47580711, 522.47580711, 522.47580711, 522.47580711,\n       522.47580711, 522.47580711, 522.47580711, 522.47580711,\n       522.47580711, 522.47580711, 522.47580711, 522.47580711,\n       522.47580711, 522.47580711, 522.47580711, 522.47580711,\n       522.47580711, 522.47580711, 522.47580711, 522.47580711,\n       522.47580711, 522.47580711, 522.47580711, 522.47580711,\n       522.47580711, 522.47580711, 522.47580711, 522.47580711,\n       522.47580711, 522.47580711, 522.47580711, 522.47580711,\n       522.47580711, 522.47580711, 522.47580711, 522.47580711,\n       522.47580711, 522.47580711, 522.47580711, 522.47580711,\n       522.47580711, 522.47580711, 522.47580711, 522.47580711,\n       522.47580711, 522.47580711, 522.47580711, 522.47580711,\n       522.47580711, 522.47580711, 522.47580711, 522.47580711,\n       522.47580711, 522.47580711, 522.47580711, 522.47580711,\n       522.47580711, 522.47580711, 522.47580711, 522.47580711,\n       522.47580711, 522.47580711, 522.47580711, 522.47580711,\n       522.47580711, 522.47580711, 522.47580711, 522.47580711,\n       522.47580711, 522.47580711, 522.47580711, 522.47580711,\n       522.47580711, 522.47580711, 522.47580711, 522.47580711,\n       522.47580711, 522.47580711, 522.47580711, 522.47580711,\n       522.47580711, 522.47580711, 522.47580711, 522.47580711,\n       522.47580711, 522.47580711, 522.47580711, 522.47580711,\n       522.47580711, 522.47580711, 522.47580711, 522.47580711,\n       522.47580711, 522.47580711, 522.47580711, 522.47580711,\n       522.47580711, 522.47580711, 522.47580711, 522.47580711,\n       522.47580711, 522.47580711, 522.47580711, 522.47580711,\n       522.47580711, 522.47580711, 522.47580711, 522.47580711,\n       522.47580711, 522.47580711, 522.47580711, 522.47580711,\n       522.47580711, 522.47580711, 522.47580711, 522.47580711,\n       522.47580711, 522.47580711, 522.47580711, 522.47580711,\n       522.47580711, 522.47580711, 522.47580711, 522.47580711,\n       522.47580711, 522.47580711, 522.47580711, 522.47580711,\n       522.47580711, 522.47580711, 522.47580711, 522.47580711,\n       522.47580711, 522.47580711, 522.47580711, 522.47580711,\n       522.47580711, 522.47580711, 522.47580711, 522.47580711,\n       522.47580711, 522.47580711, 522.47580711, 522.47580711,\n       522.47580711, 522.47580711, 522.47580711, 522.47580711,\n       522.47580711, 522.47580711, 522.47580711, 522.47580711,\n       522.47580711, 522.47580711, 522.47580711, 522.47580711,\n       522.47580711, 522.47580711, 522.47580711, 522.47580711,\n       522.47580711, 522.47580711, 522.47580711, 522.47580711,\n       522.47580711, 522.47580711, 522.47580711, 522.47580711,\n       522.47580711, 522.47580711, 522.47580711, 522.47580711,\n       522.47580711, 522.47580711, 522.47580711, 522.47580711,\n       522.47580711, 522.47580711, 522.47580711, 522.47580711,\n       522.47580711, 522.47580711, 522.47580711, 522.47580711,\n       522.47580711, 522.47580711, 522.47580711, 522.47580711,\n       522.47580711, 522.47580711, 522.47580711, 522.47580711,\n       522.47580711, 522.47580711, 522.47580711, 522.47580711,\n       522.47580711, 522.47580711, 522.47580711, 522.47580711,\n       522.47580711, 522.47580711, 522.47580711, 522.47580711,\n       522.47580711, 522.47580711, 522.47580711, 522.47580711,\n       522.47580711, 522.47580711, 522.47580711, 522.47580711,\n       522.47580711, 522.47580711, 522.47580711, 522.47580711,\n       522.47580711, 522.47580711, 522.47580711, 522.47580711,\n       522.47580711, 522.47580711, 522.47580711, 522.47580711,\n       522.47580711, 522.47580711, 522.47580711, 522.47580711,\n       522.47580711, 522.47580711, 522.47580711, 522.47580711,\n       522.47580711, 522.47580711, 522.47580711, 522.47580711,\n       522.47580711, 522.47580711, 522.47580711, 522.47580711,\n       522.47580711, 522.47580711, 522.47580711, 522.47580711,\n       522.47580711, 522.47580711, 522.47580711, 522.47580711,\n       522.47580711, 522.47580711, 522.47580711, 522.47580711,\n       522.47580711, 522.47580711, 522.47580711, 522.47580711,\n       522.47580711, 522.47580711, 522.47580711, 522.47580711,\n       522.47580711, 522.47580711, 522.47580711, 522.47580711,\n       522.47580711, 522.47580711, 522.47580711, 522.47580711,\n       522.47580711, 522.47580711, 522.47580711, 522.47580711,\n       522.47580711, 522.47580711, 522.47580711, 522.47580711,\n       522.47580711, 522.47580711, 522.47580711, 522.47580711,\n       522.47580711, 522.47580711, 522.47580711, 522.47580711,\n       522.47580711, 522.47580711, 522.47580711, 522.47580711,\n       522.47580711, 522.47580711, 522.47580711, 522.47580711,\n       522.47580711, 522.47580711, 522.47580711, 522.47580711,\n       522.47580711, 522.47580711, 522.47580711, 522.47580711,\n       522.47580711, 522.47580711, 522.47580711, 522.47580711,\n       522.47580711, 522.47580711, 522.47580711, 522.47580711,\n       522.47580711, 522.47580711, 522.47580711, 522.47580711,\n       522.47580711, 522.47580711, 522.47580711, 522.47580711,\n       522.47580711, 522.47580711, 522.47580711, 522.47580711,\n       522.47580711, 522.47580711, 522.47580711, 522.47580711,\n       522.47580711, 522.47580711, 522.47580711, 522.47580711,\n       522.47580711, 522.47580711, 522.47580711, 522.47580711,\n       522.47580711, 522.47580711, 522.47580711, 522.47580711,\n       522.47580711, 522.47580711, 522.47580711, 522.47580711,\n       522.47580711, 522.47580711, 522.47580711, 522.47580711,\n       522.47580711, 522.47580711, 522.47580711, 522.47580711,\n       522.47580711, 522.47580711, 522.47580711, 522.47580711,\n       522.47580711, 522.47580711, 522.47580711, 522.47580711,\n       522.47580711, 522.47580711, 522.47580711, 522.47580711,\n       522.47580711, 522.47580711, 522.47580711, 522.47580711,\n       522.47580711, 522.47580711, 522.47580711, 522.47580711,\n       522.47580711, 522.47580711, 522.47580711, 522.47580711,\n       522.47580711, 522.47580711, 522.47580711, 522.47580711,\n       522.47580711, 522.47580711, 522.47580711, 522.47580711,\n       522.47580711, 522.47580711, 522.47580711, 522.47580711,\n       522.47580711, 522.47580711, 522.47580711, 522.47580711,\n       522.47580711, 522.47580711, 522.47580711, 522.47580711,\n       522.47580711, 522.47580711, 522.47580711, 522.47580711,\n       522.47580711, 522.47580711, 522.47580711, 522.47580711,\n       522.47580711, 522.47580711, 522.47580711, 522.47580711,\n       522.47580711, 522.47580711, 522.47580711, 522.47580711,\n       522.47580711, 522.47580711, 522.47580711, 522.47580711,\n       522.47580711, 522.47580711, 522.47580711, 522.47580711,\n       522.47580711, 522.47580711, 522.47580711, 522.47580711,\n       522.47580711, 522.47580711, 522.47580711, 522.47580711,\n       522.47580711, 522.47580711, 522.47580711, 522.47580711,\n       522.47580711, 522.47580711, 522.47580711, 522.47580711,\n       522.47580711, 522.47580711, 522.47580711, 522.47580711,\n       522.47580711, 522.47580711, 522.47580711, 522.47580711,\n       522.47580711, 522.47580711, 522.47580711, 522.47580711,\n       522.47580711, 522.47580711, 522.47580711, 522.47580711,\n       522.47580711, 522.47580711, 522.47580711, 522.47580711,\n       522.47580711, 522.47580711, 522.47580711, 522.47580711,\n       522.47580711, 522.47580711, 522.47580711, 522.47580711,\n       522.47580711, 522.47580711, 522.47580711, 522.47580711,\n       522.47580711, 522.47580711, 522.47580711, 522.47580711,\n       522.47580711, 522.47580711, 522.47580711, 522.47580711,\n       522.47580711, 522.47580711, 522.47580711, 522.47580711,\n       522.47580711, 522.47580711, 522.47580711, 522.47580711,\n       522.47580711, 522.47580711, 522.47580711, 522.47580711,\n       522.47580711, 522.47580711, 522.47580711, 522.47580711,\n       522.47580711, 522.47580711, 522.47580711, 522.47580711,\n       522.47580711, 522.47580711, 522.47580711, 522.47580711,\n       522.47580711, 522.47580711, 522.47580711, 522.47580711,\n       522.47580711, 522.47580711, 522.47580711, 522.47580711,\n       522.47580711, 522.47580711, 522.47580711, 522.47580711,\n       522.47580711, 522.47580711, 522.47580711, 522.47580711,\n       522.47580711, 522.47580711, 522.47580711, 522.47580711,\n       522.47580711, 522.47580711, 522.47580711, 522.47580711,\n       522.47580711, 522.47580711, 522.47580711, 522.47580711,\n       522.47580711, 522.47580711, 522.47580711, 522.47580711,\n       522.47580711, 522.47580711, 522.47580711, 522.47580711,\n       522.47580711, 522.47580711, 522.47580711, 522.47580711,\n       522.47580711, 522.47580711, 522.47580711, 522.47580711,\n       522.47580711, 522.47580711, 522.47580711, 522.47580711,\n       522.47580711, 522.47580711, 522.47580711, 522.47580711,\n       522.47580711, 522.47580711, 522.47580711, 522.47580711,\n       522.47580711, 522.47580711, 522.47580711, 522.47580711,\n       522.47580711, 522.47580711, 522.47580711, 522.47580711,\n       522.47580711, 522.47580711, 522.47580711, 522.47580711,\n       522.47580711, 522.47580711, 522.47580711, 522.47580711,\n       522.47580711, 522.47580711, 522.47580711, 522.47580711,\n       522.47580711, 522.47580711, 522.47580711, 522.47580711,\n       522.47580711, 522.47580711, 522.47580711, 522.47580711,\n       522.47580711, 522.47580711, 522.47580711, 522.47580711,\n       522.47580711, 522.47580711, 522.47580711, 522.47580711,\n       522.47580711, 522.47580711, 522.47580711, 522.47580711,\n       522.47580711, 522.47580711, 522.47580711, 522.47580711,\n       522.47580711, 522.47580711, 522.47580711, 522.47580711,\n       522.47580711, 522.47580711, 522.47580711, 522.47580711,\n       522.47580711, 522.47580711, 522.47580711, 522.47580711,\n       522.47580711, 522.47580711, 522.47580711, 522.47580711,\n       522.47580711, 522.47580711, 522.47580711, 522.47580711,\n       522.47580711, 522.47580711, 522.47580711, 522.47580711,\n       522.47580711, 522.47580711, 522.47580711, 522.47580711,\n       522.47580711, 522.47580711, 522.47580711, 522.47580711,\n       522.47580711, 522.47580711, 522.47580711, 522.47580711,\n       522.47580711, 522.47580711, 522.47580711, 522.47580711,\n       522.47580711, 522.47580711, 522.47580711, 522.47580711,\n       522.47580711, 522.47580711, 522.47580711, 522.47580711,\n       522.47580711, 522.47580711, 522.47580711, 522.47580711,\n       522.47580711, 522.47580711, 522.47580711, 522.47580711,\n       522.47580711, 522.47580711, 522.47580711, 522.47580711,\n       522.47580711, 522.47580711, 522.47580711, 522.47580711,\n       522.47580711, 522.47580711, 522.47580711, 522.47580711,\n       522.47580711, 522.47580711, 522.47580711, 522.47580711,\n       522.47580711, 522.47580711, 522.47580711, 522.47580711,\n       522.47580711, 522.47580711, 522.47580711, 522.47580711,\n       522.47580711, 522.47580711, 522.47580711, 522.47580711,\n       522.47580711, 522.47580711, 522.47580711, 522.47580711,\n       522.47580711, 522.47580711, 522.47580711, 522.47580711,\n       522.47580711, 522.47580711, 522.47580711, 522.47580711,\n       522.47580711, 522.47580711, 522.47580711, 522.47580711,\n       522.47580711, 522.47580711, 522.47580711, 522.47580711,\n       522.47580711, 522.47580711, 522.47580711, 522.47580711,\n       522.47580711, 522.47580711, 522.47580711, 522.47580711,\n       522.47580711, 522.47580711, 522.47580711, 522.47580711,\n       522.47580711, 522.47580711, 522.47580711, 522.47580711,\n       522.47580711, 522.47580711, 522.47580711, 522.47580711,\n       522.47580711, 522.47580711, 522.47580711, 522.47580711,\n       522.47580711, 522.47580711, 522.47580711, 522.47580711,\n       522.47580711, 522.47580711, 522.47580711, 522.47580711,\n       522.47580711, 522.47580711, 522.47580711, 522.47580711,\n       522.47580711, 522.47580711, 522.47580711, 522.47580711,\n       522.47580711, 522.47580711, 522.47580711, 522.47580711,\n       522.47580711, 522.47580711, 522.47580711, 522.47580711,\n       522.47580711, 522.47580711, 522.47580711, 522.47580711,\n       522.47580711, 522.47580711, 522.47580711, 522.47580711,\n       522.47580711, 522.47580711, 522.47580711, 522.47580711,\n       522.47580711, 522.47580711, 522.47580711, 522.47580711,\n       522.47580711, 522.47580711, 522.47580711, 522.47580711,\n       522.47580711, 522.47580711, 522.47580711, 522.47580711,\n       522.47580711, 522.47580711, 522.47580711, 522.47580711,\n       522.47580711, 522.47580711, 522.47580711, 522.47580711,\n       522.47580711, 522.47580711, 522.47580711, 522.47580711,\n       522.47580711, 522.47580711, 522.47580711, 522.47580711,\n       522.47580711, 522.47580711, 522.47580711, 522.47580711,\n       522.47580711, 522.47580711, 522.47580711, 522.47580711,\n       522.47580711, 522.47580711, 522.47580711, 522.47580711,\n       522.47580711, 522.47580711, 522.47580711, 522.47580711,\n       522.47580711, 522.47580711, 522.47580711, 522.47580711,\n       522.47580711, 522.47580711, 522.47580711, 522.47580711,\n       522.47580711, 522.47580711, 522.47580711, 522.47580711,\n       522.47580711, 522.47580711, 522.47580711, 522.47580711,\n       522.47580711, 522.47580711, 522.47580711, 522.47580711,\n       522.47580711, 522.47580711, 522.47580711, 522.47580711,\n       522.47580711, 522.47580711, 522.47580711, 522.47580711,\n       522.47580711, 522.47580711, 522.47580711, 522.47580711,\n       522.47580711, 522.47580711, 522.47580711, 522.47580711,\n       522.47580711, 522.47580711, 522.47580711, 522.47580711,\n       522.47580711, 522.47580711, 522.47580711, 522.47580711,\n       522.47580711, 522.47580711, 522.47580711, 522.47580711,\n       522.47580711, 522.47580711, 522.47580711, 522.47580711,\n       522.47580711, 522.47580711, 522.47580711, 522.47580711,\n       522.47580711, 522.47580711, 522.47580711, 522.47580711,\n       522.47580711, 522.47580711, 522.47580711, 522.47580711,\n       522.47580711, 522.47580711, 522.47580711, 522.47580711,\n       522.47580711, 522.47580711, 522.47580711, 522.47580711,\n       522.47580711, 522.47580711, 522.47580711, 522.47580711,\n       522.47580711, 522.47580711, 522.47580711, 522.47580711,\n       522.47580711, 522.47580711, 522.47580711, 522.47580711,\n       522.47580711, 522.47580711, 522.47580711, 522.47580711,\n       522.47580711, 522.47580711, 522.47580711, 522.47580711,\n       522.47580711, 522.47580711, 522.47580711, 522.47580711,\n       522.47580711, 522.47580711, 522.47580711, 522.47580711,\n       522.47580711, 522.47580711, 522.47580711, 522.47580711,\n       522.47580711, 522.47580711, 522.47580711, 522.47580711,\n       522.47580711, 522.47580711, 522.47580711, 522.47580711,\n       522.47580711, 522.47580711, 522.47580711, 522.47580711,\n       522.47580711, 522.47580711, 522.47580711, 522.47580711,\n       522.47580711, 522.47580711, 522.47580711, 522.47580711,\n       522.47580711, 522.47580711, 522.47580711, 522.47580711,\n       522.47580711, 522.47580711, 522.47580711, 522.47580711,\n       522.47580711, 522.47580711, 522.47580711, 522.47580711,\n       522.47580711, 522.47580711, 522.47580711, 522.47580711,\n       522.47580711, 522.47580711, 522.47580711, 522.47580711,\n       522.47580711, 522.47580711, 522.47580711, 522.47580711,\n       522.47580711, 522.47580711, 522.47580711, 522.47580711,\n       522.47580711, 522.47580711, 522.47580711, 522.47580711,\n       522.47580711, 522.47580711, 522.47580711, 522.47580711,\n       522.47580711, 522.47580711, 522.47580711, 522.47580711])\n\n.data =\narray([[ 12,  36,  33, ...,   1, 192, 201],\n       [ 11,  27,  34, ...,   2, 192, 201],\n       [ 11,  18,  34, ...,   1, 192, 201],\n       ...,\n       [ 11,  18,  32, ...,   1, 191, 201],\n       [ 11,  18,  32, ...,   1, 191, 201],\n       [ 12,   6,  32, ...,   1, 192, 201]])"
     },
     "execution_count": 8,
     "metadata": {},
     "output_type": "execute_result"
    }
   ],
   "source": [
    "\n",
    "x = ranked_data[all_attributes_original]\n",
    "y = ranked_data['rank']\n",
    "x.set_axis(all_attributes_meaningful_names, axis=1, inplace=True)\n",
    "# with sklearn\n",
    "model = LinearRegression()\n",
    "model.fit(x, y)\n",
    "print(\"Model coefficients:\\n\")\n",
    "for i in range(x.shape[1]):\n",
    "    print(x.columns[i], \"=\", model.coef_[i].round(5))\n",
    "# compute the SHAP values for the linear model\n",
    "explainer = shap.Explainer(model.predict, x)\n",
    "shap_values = explainer(x)\n",
    "shap_values\n"
   ],
   "metadata": {
    "collapsed": false
   }
  },
  {
   "cell_type": "code",
   "execution_count": 9,
   "outputs": [
    {
     "name": "stdout",
     "output_type": "stream",
     "text": [
      "10\n",
      "group [12, -1, -1, -1, -1, -1, -1, -1, -1, -1, -1, -1, -1, -1, -1] size 269\n"
     ]
    },
    {
     "name": "stderr",
     "output_type": "stream",
     "text": [
      "The frame.append method is deprecated and will be removed from pandas in a future version. Use pandas.concat instead.\n",
      "The frame.append method is deprecated and will be removed from pandas in a future version. Use pandas.concat instead.\n"
     ]
    },
    {
     "name": "stdout",
     "output_type": "stream",
     "text": [
      "                       Attribute  Shapley values\n",
      "0               residence length       29.668147\n",
      "1              duration in month      -22.785591\n",
      "2                  credit amount       18.922467\n",
      "3               installment rate      -15.636263\n",
      "4              employment length        6.116350\n",
      "5  existing credits at this bank        2.834112\n",
      "6  other positive Shapley values        2.215326\n",
      "7  other negative Shapley values       -2.548899\n"
     ]
    },
    {
     "data": {
      "text/plain": "<Figure size 1008x504 with 1 Axes>",
      "image/png": "[encoded data removed]"
     },
     "metadata": {},
     "output_type": "display_data"
    }
   ],
   "source": [
    "fig, ax = plt.subplots(1, 1,figsize=(14, 7))\n",
    "group = groups_global_bounds[1]\n",
    "print(len(tuples_in_group(group, ranked_data[:k], selected_attributes)))\n",
    "plot_average_shap_value_of_group(ranked_data, group, selected_attributes, all_attributes_meaningful_names, shap_values, ax)\n",
    "# plt.xticks([-20, 0, 20, 30], fontsize=FONTSIZE)\n",
    "# plt.rcParams['font.size'] = '22'\n",
    "plt.tight_layout()\n",
    "plt.savefig(r\"german_shap_globalbounds.png\", bbox_inches='tight')\n"
   ],
   "metadata": {
    "collapsed": false
   }
  },
  {
   "cell_type": "code",
   "execution_count": 13,
   "outputs": [
    {
     "name": "stdout",
     "output_type": "stream",
     "text": [
      "[1 2 3 4]\n",
      "[0 1 2 3]\n"
     ]
    },
    {
     "data": {
      "text/plain": "<Figure size 1008x504 with 1 Axes>",
      "image/png": "[encoded data removed]"
     },
     "metadata": {},
     "output_type": "display_data"
    }
   ],
   "source": [
    "fig, ax = plt.subplots(1, 1,figsize=(14, 7))\n",
    "original_att = 'residence length'\n",
    "# original_att = 'existing credits at this bank'\n",
    "att = all_attributes_original[all_attributes_meaningful_names.index(original_att)]\n",
    "group_name = \"\\{status of existing account \\n = (0 $<=$ ... $<$ 200 DM)\\}\"\n",
    "plot_distribution_ratio(ranked_data, att, original_att, group, group_name, k, ax)\n",
    "# plt.yticks([0, 0.05, 0.1, 0.15, 0.2, 0.25, 0.3, 0.35], fontsize=FONTSIZE)\n",
    "plt.tight_layout()\n",
    "plt.savefig(r\"german_value_dis_globalbounds.png\", bbox_inches='tight')\n"
   ],
   "metadata": {
    "collapsed": false
   }
  },
  {
   "cell_type": "code",
   "execution_count": 15,
   "outputs": [
    {
     "name": "stdout",
     "output_type": "stream",
     "text": [
      "394 19 15.760000000000002\n",
      "True\n"
     ]
    }
   ],
   "source": [
    "another_group = [14, -1, -1, -1, -1, -1, -1, -1, -1, -1, -1, -1, -1, -1, -1, 2, -1, -1, -1, -1]\n",
    "print(check_another_group_prop_bounds(another_group, ranked_data, selected_attributes, thc, alpha, k))\n"
   ],
   "metadata": {
    "collapsed": false
   }
  },
  {
   "cell_type": "code",
   "execution_count": null,
   "outputs": [],
   "source": [],
   "metadata": {
    "collapsed": false
   }
  }
 ],
 "metadata": {
  "kernelspec": {
   "display_name": "Python 3",
   "language": "python",
   "name": "python3"
  },
  "language_info": {
   "codemirror_mode": {
    "name": "ipython",
    "version": 2
   },
   "file_extension": ".py",
   "mimetype": "text/x-python",
   "name": "python",
   "nbconvert_exporter": "python",
   "pygments_lexer": "ipython2",
   "version": "2.7.6"
  }
 },
 "nbformat": 4,
 "nbformat_minor": 0
}
