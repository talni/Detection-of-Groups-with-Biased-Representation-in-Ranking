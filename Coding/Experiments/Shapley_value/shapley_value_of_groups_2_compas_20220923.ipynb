{
 "cells": [
  {
   "cell_type": "code",
   "execution_count": 1,
   "metadata": {
    "collapsed": true
   },
   "outputs": [],
   "source": [
    "import copy\n",
    "\n",
    "import pandas as pd\n",
    "import sys\n",
    "import math\n",
    "\n",
    "sys.path.append('../Coding')\n",
    "from itertools import combinations\n",
    "from Algorithms import pattern_count\n",
    "import time\n",
    "from Algorithms import NewAlgRanking_19_20211216 as newalg\n",
    "from Algorithms import NaiveAlgRanking_4_20211213 as naivealg\n",
    "import numpy as np\n",
    "import copy\n",
    "import sys\n",
    "import math\n",
    "from sklearn.linear_model import LinearRegression\n",
    "import shap\n",
    "import matplotlib.pyplot as plt\n",
    "import seaborn as sns\n",
    "from matplotlib.ticker import FuncFormatter\n",
    "\n",
    "from Algorithms import NewAlgRanking_definition2_13_20220509 as newalg2\n",
    "from Algorithms import NaiveAlgRanking_definition2_5_20220506 as naivealg2\n",
    "\n",
    "plt.rc('text', usetex=True)\n",
    "plt.rc('font', family='serif')\n",
    "plt.rcParams['font.size'] = '22'\n",
    "\n",
    "sns.set_palette(\"Paired\")\n",
    "# sns.set_palette(\"deep\")\n",
    "sns.set_context(\"poster\", font_scale=2)\n",
    "sns.set_style(\"whitegrid\")\n",
    "# sns.palplot(sns.color_palette(\"deep\", 10))\n",
    "# sns.palplot(sns.color_palette(\"Paired\", 9))\n",
    "\n",
    "line_style = ['o-', 's--', '^:', '-.p']\n",
    "color = ['C0', 'C1', 'C2', 'C3', 'C4', 'C5', 'C6', 'C7', 'C8']\n",
    "# plt_title = [\"BlueNile\", \"COMPAS\", \"Credit Card\"]\n",
    "#\n",
    "# label = [\"PropBounds\", \"IterTD\"]\n",
    "line_width = 8\n",
    "marker_size = 20\n",
    "f_size = (18, 16)\n",
    "FONTSIZE=50"
   ]
  },
  {
   "cell_type": "code",
   "execution_count": 2,
   "outputs": [],
   "source": [
    "def string2num(st):\n",
    "    p = list()\n",
    "    idx = 0\n",
    "    item = ''\n",
    "    i = ''\n",
    "    for i in st:\n",
    "        if i == '|':\n",
    "            if item == '':\n",
    "                p.append(-1)\n",
    "            else:\n",
    "                p.append(int(item))\n",
    "                item = ''\n",
    "            idx += 1\n",
    "        else:\n",
    "            item += i\n",
    "    if i != '|':\n",
    "        p.append(int(item))\n",
    "    else:\n",
    "        p.append(-1)\n",
    "    return p\n",
    "\n",
    "\n",
    "def P1DominatedByP2(P1, P2):\n",
    "    length = len(P1)\n",
    "    for i in range(length):\n",
    "        if P1[i] == -1:\n",
    "            if P2[i] != -1:\n",
    "                return False\n",
    "        if P1[i] != -1:\n",
    "            if P2[i] != P1[i] and P2[i] != -1:\n",
    "                return False\n",
    "    return True\n",
    "\n",
    "def idx_of_tuples_in_group(group, data):\n",
    "    def belong_to_group(row):\n",
    "        nonlocal group\n",
    "        if P1DominatedByP2(row, group):\n",
    "            return True\n",
    "        else:\n",
    "            return False\n",
    "    data[\"in\"] = data.apply(belong_to_group, axis=1)\n",
    "    return data[data[\"in\"] == True].index\n",
    "\n",
    "def average_shapley_values_of_group(data, group, all_attributes, shap_values):\n",
    "    # get all tuples in this group\n",
    "    data1 = data[all_attributes].copy(deep=True)\n",
    "    tuples_idx = idx_of_tuples_in_group(group, data1).to_list()\n",
    "    if len(tuples_idx) == 0:\n",
    "        # output_file.write(\"\\ngroup {} size {}\\n\".format(group, len(tuples_idx)))\n",
    "        print(\"group {} size {}\".format(group, len(tuples_idx)))\n",
    "        return []\n",
    "    else:\n",
    "        # print(tuples_idx, len(tuples_idx))\n",
    "        # for id in tuples_idx:\n",
    "        #     print(id, shap_values.values[id])\n",
    "        avg = np.average(shap_values.values[tuples_idx], axis=0)\n",
    "        # print(np.sum(shap_values.values[tuples_idx], axis=0))\n",
    "        # output_file.write(\"\\ngroup {} size {}\\n\".format(group, len(tuples_idx)))\n",
    "        # output_file.write(str(avg))\n",
    "        print(\"group {} size {}\".format(group, len(tuples_idx)))\n",
    "        # print(avg)\n",
    "        return list(avg)\n",
    "\n",
    "\n",
    "def idx_of_tuples_in_group_w_attribute(group, data, att, value):\n",
    "    def belong_to_group(row):\n",
    "        nonlocal group\n",
    "        if P1DominatedByP2(row, group):\n",
    "            if row[att] == value:\n",
    "                return True\n",
    "            else:\n",
    "                return False\n",
    "        else:\n",
    "            return False\n",
    "    data[\"in\"] = data.apply(belong_to_group, axis=1)\n",
    "    idx = data[data[\"in\"] == True].index\n",
    "    data.drop(columns=[\"in\"], axis=1, inplace=True)\n",
    "    return idx\n",
    "\n",
    "\n",
    "def shapley_values_att_value_seperated(data, group, all_attributes, shap_values, output_file):\n",
    "    # get all tuples in this group\n",
    "    data1 = data[all_attributes].copy(deep=True)\n",
    "    att_idx = 0\n",
    "    for att in all_attributes:\n",
    "        for v in range(int(data1.describe()[att][\"min\"]), int(data1.describe()[att][\"max\"]) + 1):\n",
    "            tuples_idx = idx_of_tuples_in_group_w_attribute(group, data1, att, v).to_list()\n",
    "            if len(tuples_idx) == 0:\n",
    "                output_file.write(\"group {} att {} = {} size {}\\n\".format(group, att, v, len(tuples_idx)))\n",
    "                print(\"group {} att {} = {} size {}\".format(group, att, v, len(tuples_idx)))\n",
    "            else:\n",
    "                values_of_group = shap_values.values[tuples_idx]\n",
    "                avg = np.average(values_of_group, axis=0)\n",
    "                print(\"group {} att {} = {} size {}\\n avg {}\".format(group, att, v, len(tuples_idx), avg))\n",
    "                output_file.write(\"group {} att {} = {} size {} avg {}\\n\".format(group, att, v, len(tuples_idx), avg[att_idx]))\n",
    "        att_idx += 1\n",
    "\n",
    "def tuples_in_group(g, data, selected_attributes):\n",
    "    tuple_idx = idx_of_tuples_in_group(g, data[selected_attributes].copy(deep=True))\n",
    "    tuples = data.iloc[tuple_idx]\n",
    "    return tuples\n",
    "\n",
    "def tuples_not_in_group(g, data, selected_attributes):\n",
    "    tuple_idx = idx_of_tuples_in_group(g, data[selected_attributes].copy(deep=True))\n",
    "    return data.drop(tuple_idx)\n",
    "\n",
    "def check_another_group_global_bounds(g, data, selected_attributes, thc, Lowerbounds, k):\n",
    "    size_whole_data = len(tuples_in_group(g, data, selected_attributes))\n",
    "    if size_whole_data < thc:\n",
    "        print(\"group g size too small\", size_whole_data)\n",
    "        return False\n",
    "    size_topk = len(tuples_in_group(g, data[:k], selected_attributes))\n",
    "    if size_topk < Lowerbounds[0]:\n",
    "        print(\"group g doesn't have enough representation in top k\", size_topk)\n",
    "        return False\n",
    "    return True\n",
    "\n",
    "\n",
    "def check_another_group_prop_bounds(g, data, selected_attributes, thc, alpha, k):\n",
    "    size_whole_data = len(tuples_in_group(g, data, selected_attributes))\n",
    "    if size_whole_data < thc:\n",
    "        print(\"group g size too small\", size_whole_data)\n",
    "        return False\n",
    "    size_topk = len(tuples_in_group(g, data[:k], selected_attributes))\n",
    "    lowerbound = alpha * size_whole_data * k / len(data)\n",
    "    print(size_whole_data, size_topk, lowerbound)\n",
    "    if size_topk < lowerbound:\n",
    "        print(\"group g doesn't have enough representation in top k\", size_topk)\n",
    "        return False\n",
    "    return True\n",
    "\n",
    "def plot_distribution_number(ranked_data, attribute, group, another_group, k):\n",
    "    x_list = ranked_data[attribute].unique()\n",
    "    x_list.sort()\n",
    "    tuples = tuples_in_group(group, ranked_data, selected_attributes)\n",
    "    s = tuples[attribute].value_counts().sort_index()\n",
    "    group_value_dis = [s[i] if i in s else 0 for i in x_list]\n",
    "    s = ranked_data[attribute].value_counts().sort_index()\n",
    "    whole_data_dis = [s[i] if i in s else 0 for i in x_list]\n",
    "    s = tuples_not_in_group(group, ranked_data, selected_attributes)[attribute].value_counts().sort_index()\n",
    "    other_data_dis = [s[i] if i in s else 0 for i in x_list]\n",
    "    s = tuples_in_group(another_group, ranked_data, selected_attributes)[attribute].value_counts().sort_index()\n",
    "    total = sum(s)\n",
    "    another_group_dis = [s[i] if i in s else 0 for i in x_list]\n",
    "\n",
    "\n",
    "    s = ranked_data[:k][attribute].value_counts().sort_index()\n",
    "    topkdis = [s[i] if i in s else 0 for i in x_list]\n",
    "\n",
    "    index = np.arange(len(x_list))\n",
    "    bar_width = 0.2\n",
    "\n",
    "    fig, ax = plt.subplots(1, 1, figsize=(20, 8))\n",
    "\n",
    "    index = np.arange(len(x_list))\n",
    "    plt.bar(index, group_value_dis, bar_width, color=color[0], label=\"group\")\n",
    "    plt.bar(index + bar_width, whole_data_dis, bar_width,  color=color[2], label=\"whole data\")\n",
    "    plt.bar(index + bar_width * 2, other_data_dis, bar_width,  color=color[4], label=\"other data\")\n",
    "    plt.bar(index + bar_width * 3, another_group_dis, bar_width,  color=color[6], label=\"non-problematic group\")\n",
    "    plt.bar(index + bar_width * 4, topkdis, bar_width,  color=color[8], label=\"topk\")\n",
    "    # plt.xticks(index + bar_width, x_list)\n",
    "    # plt.xticks(index, x_list)\n",
    "\n",
    "    plt.ylabel('number of tuples')\n",
    "    plt.xlabel('value of attribute ' + attribute)\n",
    "    # plt.yscale('log')\n",
    "    plt.legend(loc='best', fontsize=25)\n",
    "\n",
    "    plt.tight_layout()\n",
    "    # plt.savefig(\"adult_time.png\", bbox_inches='tight')\n",
    "    plt.show()\n",
    "\n"
   ],
   "metadata": {
    "collapsed": false
   }
  },
  {
   "cell_type": "code",
   "execution_count": 18,
   "outputs": [],
   "source": [
    "\n",
    "def plot_distribution_ratio(ranked_data, attribute, original_att, group, group_name, k, axis):\n",
    "    x_list = ranked_data[attribute].unique()\n",
    "    x_list.sort()\n",
    "    print(x_list)\n",
    "\n",
    "    tuples = tuples_in_group(group, ranked_data, selected_attributes)\n",
    "    s = tuples[attribute].value_counts().sort_index()\n",
    "    total = sum(s)\n",
    "    group_value_dis = [s[i]/total if i in s else 0 for i in x_list]\n",
    "\n",
    "    s = ranked_data[:k][attribute].value_counts().sort_index()\n",
    "    total = sum(s)\n",
    "    topkdis = [s[i]/total if i in s else 0 for i in x_list]\n",
    "\n",
    "    bar_width = 0.45\n",
    "    index = np.arange(len(x_list))\n",
    "    print(index)\n",
    "    axis.bar(index, group_value_dis, bar_width, color=color[3], label=group_name)\n",
    "    axis.bar(index + bar_width, topkdis, bar_width,  color=color[7], label=\"top-k\")\n",
    "    # plt.xticks(index + bar_width, x_list)\n",
    "    # plt.xticks(range(x_list[0], x_list[-1]+1))\n",
    "    # index2 = [0, 2, 4, 6, 8, 10, 12, 14, 16, 18]\n",
    "    axis.set_xticks([0,1,2], [0,1,2], fontsize=FONTSIZE)\n",
    "    axis.set_yticks([0.0, 0.5,1.0], [0.0,0.5,1.0], fontsize=FONTSIZE)\n",
    "    axis.set_ylabel('Proportion', fontsize=FONTSIZE)\n",
    "    axis.set_xlabel('Value of '+ original_att, fontsize=FONTSIZE)\n",
    "    axis.legend(loc='upper right', fontsize=40, bbox_to_anchor=(1.02, 1.04))\n",
    "    # plt.tight_layout()\n",
    "    # plt.savefig(\"adult_time.png\", bbox_inches='tight')\n",
    "    # plt.show()\n",
    "    return axis\n"
   ],
   "metadata": {
    "collapsed": false
   }
  },
  {
   "cell_type": "code",
   "execution_count": 4,
   "outputs": [],
   "source": [
    "\n",
    "def plot_average_shap_value_of_group(data, group, selected_attributes, all_attributes_original, shap_values, axis):\n",
    "    s = average_shapley_values_of_group(data, group, selected_attributes, shap_values)\n",
    "\n",
    "    df=pd.DataFrame({'Attribute':all_attributes_original, 'Shapley values':s})\n",
    "    df.sort_values(by='Shapley values',key=abs, inplace=True,ascending=False)\n",
    "\n",
    "    small_shap_values = df[6:]\n",
    "    summary_shap_values = df[:6]\n",
    "\n",
    "    summary_shap_values = summary_shap_values.append({'Attribute': 'other positive Shapley values', 'Shapley values': sum([x if x > 0 else 0 for x in small_shap_values['Shapley values']])}, ignore_index=True)\n",
    "    summary_shap_values = summary_shap_values.append({'Attribute': 'other negative Shapley values', 'Shapley values': sum([x if x < 0 else 0 for x in small_shap_values['Shapley values']])}, ignore_index=True)\n",
    "\n",
    "    print(summary_shap_values)\n",
    "\n",
    "    summary_shap_values = summary_shap_values[::-1]\n",
    "    # summary_shap_values.plot(kind='barh',x='Attribute',y='Shapley values',color=[color[4] if t > 0 else color[0] for t in summary_shap_values['Shapley values']], figsize=(18, 16), legend=False, fontsize=FONTSIZE, ax=axis)\n",
    "    summary_shap_values.plot(kind='barh',x='Attribute',y='Shapley values',color=[color[4] if t > 0 else color[0] for t in summary_shap_values['Shapley values']], legend=False, fontsize=FONTSIZE, ax=axis)\n",
    "    axis.set_ylabel('Attribute', fontsize=FONTSIZE)\n",
    "    # plt.show()\n",
    "    # plt.xlabel('Shapley values', fontsize=FONTSIZE)\n",
    "    # plt.ylabel('Attribute', fontsize=FONTSIZE)\n",
    "    # plt.tight_layout()\n",
    "    # fig.set(xlabel='Shapley values')\n",
    "    # return plt\n",
    "\n"
   ],
   "metadata": {
    "collapsed": false
   }
  },
  {
   "cell_type": "markdown",
   "source": [
    "# compas\n",
    "description:\n",
    "https://www.rdocumentation.org/packages/fairml/versions/0.6.3/topics/compas"
   ],
   "metadata": {
    "collapsed": false
   }
  },
  {
   "cell_type": "code",
   "execution_count": 5,
   "outputs": [],
   "source": [
    "\n",
    "all_attributes = [\"age_binary\", \"sex_binary\", \"race_C\",\n",
    "                  \"MarriageStatus_C\", \"juv_fel_count_C\", \"decile_score_C\",\n",
    "                  \"juv_misd_count_C\", \"juv_other_count_C\", \"priors_count_C\",\n",
    "                  \"days_b_screening_arrest_C\", \"c_days_from_compas_C\", \"c_charge_degree_C\",\n",
    "                  \"v_decile_score_C\", \"start_C\", \"end_C\", \"event_C\"]\n",
    "# age_binary: <=35 0; else 1\n",
    "\n",
    "all_attributes_original = [\"age\", \"sex_binary\", \"race_C\",\n",
    "                  \"MarriageStatus_C\", \"juv_fel_count\", \"decile_score\",\n",
    "                  \"juv_misd_count\", \"juv_other_count\", \"priors_count\",\n",
    "                  \"days_b_screening_arrest\", \"c_days_from_compas\", \"c_charge_degree_C\",\n",
    "                  \"v_decile_score\", \"start\", \"end\", \"event_C\"]\n",
    "\n",
    "\n",
    "\n",
    "all_attributes_meaningful_names = [\"age\", \"sex\", \"race\",\n",
    "                  \"marriage status\", \"\\# of juvenile felonies\", \"decile score\",\n",
    "                  \"\\# of juvenile misdemeanors\", \"\\# of other juvenile convictions\", \"\\# of prior crimes committed\",\n",
    "                  \"days before screening arrest\", \"days from compas\", \"degree of charge\",\n",
    "                  \"violent decile score\", \"start date\", \"end date\", \"event\"]\n",
    "\n",
    "original_data_file = r\"../../../InputData/CompasData/general/CompasData_categorized_ranked.csv\"\n",
    "\n",
    "ranked_data = pd.read_csv(original_data_file, index_col=False)\n",
    "\n",
    "# scoring attributes:\n",
    "# c days from compas,\n",
    "# juv other count, days b screening arrest, start, end,\n",
    "# age, and priors count\n"
   ],
   "metadata": {
    "collapsed": false
   }
  },
  {
   "cell_type": "code",
   "execution_count": 6,
   "outputs": [
    {
     "data": {
      "text/plain": "294"
     },
     "execution_count": 6,
     "metadata": {},
     "output_type": "execute_result"
    }
   ],
   "source": [
    "ranked_data['days_b_screening_arrest'].isnull().sum()"
   ],
   "metadata": {
    "collapsed": false
   }
  },
  {
   "cell_type": "code",
   "execution_count": 7,
   "outputs": [
    {
     "data": {
      "text/plain": "21"
     },
     "execution_count": 7,
     "metadata": {},
     "output_type": "execute_result"
    }
   ],
   "source": [
    "ranked_data['c_days_from_compas'].isnull().sum()"
   ],
   "metadata": {
    "collapsed": false
   }
  },
  {
   "cell_type": "code",
   "execution_count": 8,
   "outputs": [
    {
     "data": {
      "text/plain": "609"
     },
     "execution_count": 8,
     "metadata": {},
     "output_type": "execute_result"
    }
   ],
   "source": [
    "ranked_data.isnull().sum().sum()"
   ],
   "metadata": {
    "collapsed": false
   }
  },
  {
   "cell_type": "code",
   "execution_count": 9,
   "outputs": [
    {
     "name": "stdout",
     "output_type": "stream",
     "text": [
      "0 juv_fel_count\n",
      "0 decile_score\n",
      "0 juv_misd_count\n",
      "0 juv_other_count\n",
      "0 priors_count\n",
      "294 days_b_screening_arrest\n",
      "21 c_days_from_compas\n",
      "0 c_charge_degree\n",
      "0 is_recid\n",
      "0 is_violent_recid\n",
      "0 v_decile_score\n",
      "0 start\n",
      "0 end\n",
      "0 two_year_recid\n",
      "0 Violence_score\n",
      "0 Recidivism_score\n",
      "0 MarriageStatus\n",
      "0 age_binary\n",
      "0 age_bucketized\n",
      "0 sex_binary\n",
      "0 race_C\n",
      "294 score\n",
      "0 rank\n",
      "0 juv_fel_count_C\n",
      "0 decile_score_C\n",
      "0 juv_misd_count_C\n",
      "0 juv_other_count_C\n",
      "0 priors_count_C\n",
      "0 days_b_screening_arrest_C\n",
      "0 c_days_from_compas_C\n",
      "0 c_charge_degree_C\n",
      "0 v_decile_score_C\n",
      "0 start_C\n",
      "0 end_C\n",
      "0 event_C\n",
      "0 MarriageStatus_C\n",
      "0 age\n"
     ]
    }
   ],
   "source": [
    "for att in ranked_data.columns.to_list():\n",
    "    print(ranked_data[att].isnull().sum(), att)"
   ],
   "metadata": {
    "collapsed": false
   }
  },
  {
   "cell_type": "code",
   "execution_count": 10,
   "outputs": [],
   "source": [
    "# score nan = 0\n",
    "# c_days_from_compas nan = 6000\n",
    "# days_b_screening_arrest nan = 500\n",
    "ranked_data['score'] = ranked_data['score'].fillna(0)\n",
    "ranked_data['c_days_from_compas'] = ranked_data['c_days_from_compas'].fillna(6000)\n",
    "ranked_data['days_b_screening_arrest'] = ranked_data['days_b_screening_arrest'].fillna(500)"
   ],
   "metadata": {
    "collapsed": false
   }
  },
  {
   "cell_type": "code",
   "execution_count": 11,
   "outputs": [
    {
     "data": {
      "text/plain": "0"
     },
     "execution_count": 11,
     "metadata": {},
     "output_type": "execute_result"
    }
   ],
   "source": [
    "ranked_data.isnull().sum().sum()\n"
   ],
   "metadata": {
    "collapsed": false
   }
  },
  {
   "cell_type": "code",
   "execution_count": 12,
   "outputs": [
    {
     "name": "stdout",
     "output_type": "stream",
     "text": [
      "[0, -1, -1, -1, -1, -1, -1, -1, -1, -1, -1, -1, -1, -1]\n",
      "[1, -1, -1, -1, -1, -1, -1, -1, -1, -1, -1, -1, -1, -1]\n",
      "[-1, 0, -1, -1, -1, -1, -1, -1, -1, -1, -1, -1, -1, -1]\n",
      "[-1, 1, -1, -1, -1, -1, -1, -1, -1, -1, -1, -1, -1, -1]\n",
      "[-1, -1, 0, -1, -1, -1, -1, -1, -1, -1, -1, -1, -1, -1]\n",
      "[-1, -1, 1, -1, -1, -1, -1, -1, -1, -1, -1, -1, -1, -1]\n",
      "[-1, -1, 2, -1, -1, -1, -1, -1, -1, -1, -1, -1, -1, -1]\n",
      "[-1, -1, -1, 1, -1, -1, -1, -1, -1, -1, -1, -1, -1, -1]\n",
      "[-1, -1, -1, 2, -1, -1, -1, -1, -1, -1, -1, -1, -1, -1]\n",
      "[-1, -1, -1, 4, -1, -1, -1, -1, -1, -1, -1, -1, -1, -1]\n",
      "[-1, -1, -1, 6, -1, -1, -1, -1, -1, -1, -1, -1, -1, -1]\n",
      "[-1, -1, -1, -1, -1, 0, -1, -1, -1, -1, -1, -1, -1, -1]\n",
      "[-1, -1, -1, -1, -1, 1, -1, -1, -1, -1, -1, -1, -1, -1]\n",
      "[-1, -1, -1, -1, -1, -1, -1, -1, 1, -1, -1, -1, -1, -1]\n",
      "[-1, -1, -1, -1, -1, -1, -1, -1, 2, -1, -1, -1, -1, -1]\n",
      "[-1, -1, -1, -1, -1, -1, -1, -1, -1, 0, -1, -1, -1, -1]\n",
      "[-1, -1, -1, -1, -1, -1, -1, -1, -1, 1, -1, -1, -1, -1]\n",
      "[-1, -1, -1, -1, -1, -1, -1, -1, -1, 2, -1, -1, -1, -1]\n",
      "[-1, -1, -1, -1, -1, -1, -1, -1, -1, -1, -1, 0, -1, -1]\n",
      "[-1, -1, -1, -1, -1, -1, -1, -1, -1, -1, -1, 1, -1, -1]\n",
      "[-1, -1, -1, -1, -1, -1, -1, -1, -1, -1, -1, -1, 0, -1]\n",
      "[-1, -1, -1, -1, -1, -1, -1, -1, -1, -1, -1, -1, 1, -1]\n",
      "22\n"
     ]
    }
   ],
   "source": [
    "\n",
    "# scoring attributes:\n",
    "# c days from compas,\n",
    "# juv other count, days b screening arrest, start, end,\n",
    "# age, and priors count\n",
    "selected_attributes = all_attributes[:14]\n",
    "\n",
    "k = 49\n",
    "k_min = k\n",
    "k_max = k\n",
    "thc = 50\n",
    "Lowerbounds = [40]\n",
    "time_limit = 5*60\n",
    "result_global_bounds, num_patterns_visited1_, t1_ \\\n",
    "    = newalg.GraphTraverse(\n",
    "    ranked_data[selected_attributes].copy(deep=True), selected_attributes, thc,\n",
    "    Lowerbounds,\n",
    "    k_min, k_max, time_limit)\n",
    "groups_global_bounds = result_global_bounds[0]\n",
    "for g in groups_global_bounds:\n",
    "    print(g)\n",
    "print(len(groups_global_bounds))"
   ],
   "metadata": {
    "collapsed": false
   }
  },
  {
   "cell_type": "code",
   "execution_count": 13,
   "outputs": [
    {
     "name": "stdout",
     "output_type": "stream",
     "text": [
      "time for k_min = 12.525646686553955\n",
      "finish kmin\n",
      "[1, -1, -1, -1, -1, -1, -1, -1, -1, -1, -1, -1, -1, -1]\n",
      "[-1, -1, -1, 2, -1, -1, -1, -1, -1, -1, -1, -1, -1, -1]\n",
      "[-1, -1, -1, -1, -1, -1, -1, -1, -1, 2, -1, -1, -1, -1]\n",
      "[-1, -1, -1, 4, -1, -1, -1, -1, -1, -1, -1, -1, -1, -1]\n",
      "[-1, -1, -1, -1, -1, -1, -1, -1, -1, -1, -1, -1, 1, -1]\n",
      "[-1, -1, -1, -1, -1, 1, -1, -1, -1, -1, -1, -1, -1, -1]\n",
      "[-1, -1, 2, -1, -1, -1, -1, -1, -1, -1, -1, -1, -1, -1]\n",
      "[-1, -1, 1, -1, -1, -1, -1, -1, -1, -1, -1, -1, -1, -1]\n",
      "[-1, -1, -1, -1, -1, -1, -1, -1, 2, -1, -1, -1, -1, -1]\n",
      "[-1, -1, 0, 6, -1, -1, -1, -1, -1, -1, -1, -1, -1, -1]\n",
      "[-1, -1, -1, -1, -1, -1, -1, -1, -1, -1, -1, 1, -1, -1]\n",
      "[-1, 1, -1, -1, -1, -1, -1, -1, -1, -1, -1, -1, -1, -1]\n",
      "[-1, -1, -1, 1, -1, -1, -1, -1, -1, -1, -1, -1, -1, -1]\n",
      "[-1, -1, -1, -1, -1, -1, -1, -1, 1, -1, -1, -1, -1, -1]\n",
      "[-1, -1, -1, -1, -1, -1, -1, -1, -1, 1, -1, -1, -1, -1]\n"
     ]
    }
   ],
   "source": [
    "selected_attributes = all_attributes[:14]\n",
    "\n",
    "alpha = 0.8\n",
    "k = 10\n",
    "k_min = k\n",
    "k_max = k\n",
    "thc = 50\n",
    "time_limit = 5*60\n",
    "result_prop_bounds, num_patterns_visited1_, t1_ \\\n",
    "            = newalg2.GraphTraverse(\n",
    "            ranked_data[selected_attributes], selected_attributes, thc,\n",
    "            alpha,\n",
    "            k_min, k_max, time_limit)\n",
    "groups_prop_bounds = [string2num(k) for k in result_prop_bounds[0]]\n",
    "for g in groups_prop_bounds:\n",
    "    print(g)\n"
   ],
   "metadata": {
    "collapsed": false
   }
  },
  {
   "cell_type": "code",
   "execution_count": 14,
   "outputs": [
    {
     "name": "stdout",
     "output_type": "stream",
     "text": [
      "Model coefficients:\n",
      "\n",
      "age = -0.08574\n",
      "sex = -11.93762\n",
      "race = -0.90641\n",
      "marriage status = -2.49877\n",
      "\\# of juvenile felonies = -3.86053\n",
      "decile score = 2.20108\n",
      "\\# of juvenile misdemeanors = 36.17001\n",
      "\\# of other juvenile convictions = 244.55517\n",
      "\\# of prior crimes committed = 138.35038\n",
      "days before screening arrest = 3.41364\n",
      "days from compas = 0.35291\n",
      "degree of charge = 28.29349\n",
      "violent decile score = 0.5237\n",
      "start date = 3.46152\n",
      "end date = 4.72277\n",
      "event = 23.31214\n"
     ]
    },
    {
     "name": "stderr",
     "output_type": "stream",
     "text": [
      "Permutation explainer: 6890it [01:56, 55.93it/s]                          \n"
     ]
    },
    {
     "data": {
      "text/plain": ".values =\narray([[-2.84672945e+00,  1.91001928e+00, -4.07885312e-01, ...,\n        -2.07690949e+01, -2.51747387e+03,  1.37541615e+01],\n       [ 1.54340753e-01,  1.91001928e+00,  4.98526492e-01, ...,\n        -2.07690949e+01, -2.51747387e+03,  1.37541615e+01],\n       [ 1.01178938e+00,  1.91001928e+00,  4.98526492e-01, ...,\n        -2.07690949e+01, -2.50802832e+03,  1.37541615e+01],\n       ...,\n       [-1.81779109e+00, -1.00276012e+01,  4.98526492e-01, ...,\n        -2.07690949e+01,  2.41782337e+03, -9.55797665e+00],\n       [ 2.40085616e-01,  1.91001928e+00,  4.98526492e-01, ...,\n        -2.07690949e+01,  2.56895209e+03, -9.55797665e+00],\n       [ 1.09753424e+00,  1.91001928e+00,  4.98526492e-01, ...,\n        -2.07690949e+01,  1.12378371e+03, -9.55797665e+00]])\n\n.base_values =\narray([3363.32736525, 3363.32736525, 3363.32736525, ..., 3363.32736525,\n       3363.32736525, 3363.32736525])\n\n.data =\narray([[6.900e+01, 0.000e+00, 1.000e+00, ..., 0.000e+00, 1.000e+00,\n        1.000e+00],\n       [3.400e+01, 0.000e+00, 0.000e+00, ..., 0.000e+00, 1.000e+00,\n        1.000e+00],\n       [2.400e+01, 0.000e+00, 0.000e+00, ..., 0.000e+00, 3.000e+00,\n        1.000e+00],\n       ...,\n       [5.700e+01, 1.000e+00, 0.000e+00, ..., 0.000e+00, 1.046e+03,\n        0.000e+00],\n       [3.300e+01, 0.000e+00, 0.000e+00, ..., 0.000e+00, 1.078e+03,\n        0.000e+00],\n       [2.300e+01, 0.000e+00, 0.000e+00, ..., 0.000e+00, 7.720e+02,\n        0.000e+00]])"
     },
     "execution_count": 14,
     "metadata": {},
     "output_type": "execute_result"
    }
   ],
   "source": [
    "\n",
    "x = ranked_data[all_attributes_original]\n",
    "y = ranked_data['rank']\n",
    "x.set_axis(all_attributes_meaningful_names, axis=1, inplace=True)\n",
    "# with sklearn\n",
    "model = LinearRegression()\n",
    "model.fit(x, y)\n",
    "print(\"Model coefficients:\\n\")\n",
    "for i in range(x.shape[1]):\n",
    "    print(x.columns[i], \"=\", model.coef_[i].round(5))\n",
    "# compute the SHAP values for the linear model\n",
    "explainer = shap.Explainer(model.predict, x)\n",
    "shap_values = explainer(x)\n",
    "shap_values\n"
   ],
   "metadata": {
    "collapsed": false
   }
  },
  {
   "cell_type": "code",
   "execution_count": 16,
   "outputs": [
    {
     "name": "stdout",
     "output_type": "stream",
     "text": [
      "8\n",
      "group [0, -1, -1, -1, -1, -1, -1, -1, -1, -1, -1, -1, -1, -1] size 4230\n"
     ]
    },
    {
     "name": "stderr",
     "output_type": "stream",
     "text": [
      "The frame.append method is deprecated and will be removed from pandas in a future version. Use pandas.concat instead.\n",
      "The frame.append method is deprecated and will be removed from pandas in a future version. Use pandas.concat instead.\n"
     ]
    },
    {
     "name": "stdout",
     "output_type": "stream",
     "text": [
      "                          Attribute  Shapley values\n",
      "0                          end date     -157.589316\n",
      "1      \\# of prior crimes committed     -115.982101\n",
      "2                        start date       18.681547\n",
      "3  \\# of other juvenile convictions       16.650565\n",
      "4      days before screening arrest       14.902534\n",
      "5                  days from compas       -4.153593\n",
      "6     other positive Shapley values        4.493792\n",
      "7     other negative Shapley values       -1.785900\n"
     ]
    },
    {
     "data": {
      "text/plain": "<Figure size 1008x504 with 1 Axes>",
      "image/png": "[encoded data removed]"
     },
     "metadata": {},
     "output_type": "display_data"
    },
    {
     "name": "stdout",
     "output_type": "stream",
     "text": [
      "8\n",
      "group [0, -1, -1, -1, -1, -1, -1, -1, -1, -1, -1, -1, -1, -1] size 4230\n",
      "                          Attribute  Shapley values\n",
      "0                          end date     -157.589316\n",
      "1      \\# of prior crimes committed     -115.982101\n",
      "2                        start date       18.681547\n",
      "3  \\# of other juvenile convictions       16.650565\n",
      "4      days before screening arrest       14.902534\n",
      "5                  days from compas       -4.153593\n",
      "6     other positive Shapley values        4.493792\n",
      "7     other negative Shapley values       -1.785900\n"
     ]
    },
    {
     "name": "stderr",
     "output_type": "stream",
     "text": [
      "The frame.append method is deprecated and will be removed from pandas in a future version. Use pandas.concat instead.\n",
      "The frame.append method is deprecated and will be removed from pandas in a future version. Use pandas.concat instead.\n"
     ]
    },
    {
     "data": {
      "text/plain": "<Figure size 1008x504 with 1 Axes>",
      "image/png": "[encoded data removed]"
     },
     "metadata": {},
     "output_type": "display_data"
    }
   ],
   "source": [
    "\n",
    "fig, ax = plt.subplots(1, 1,figsize=(14, 7))\n",
    "group = groups_global_bounds[0]\n",
    "print(len(tuples_in_group(group, ranked_data[:k], selected_attributes)))\n",
    "plot_average_shap_value_of_group(ranked_data, group, selected_attributes, all_attributes_meaningful_names, shap_values, ax)\n",
    "plt.tight_layout()\n",
    "plt.savefig(r\"compas_shap_globalbounds.png\", bbox_inches='tight')\n",
    "\n"
   ],
   "metadata": {
    "collapsed": false
   }
  },
  {
   "cell_type": "code",
   "execution_count": 19,
   "outputs": [
    {
     "name": "stdout",
     "output_type": "stream",
     "text": [
      "[0 1 2]\n",
      "[0 1 2]\n"
     ]
    },
    {
     "data": {
      "text/plain": "<Figure size 1008x504 with 1 Axes>",
      "image/png": "[encoded data removed]"
     },
     "metadata": {},
     "output_type": "display_data"
    }
   ],
   "source": [
    "fig, ax = plt.subplots(1, 1, figsize=(14, 7))\n",
    "original_att = 'end date'\n",
    "att = all_attributes[all_attributes_meaningful_names.index(original_att)]\n",
    "group_name = \"\\{age = younger \\n than 35\\}\"\n",
    "plot_distribution_ratio(ranked_data, att, original_att, group, group_name, k, ax)\n",
    "# plt.yticks([0, 0.05, 0.1, 0.15, 0.2, 0.25, 0.3, 0.35], fontsize=FONTSIZE)\n",
    "plt.tight_layout()\n",
    "plt.savefig(r\"compas_value_dis_globalbounds.png\", bbox_inches='tight')\n"
   ],
   "metadata": {
    "collapsed": false
   }
  },
  {
   "cell_type": "code",
   "execution_count": null,
   "outputs": [],
   "source": [],
   "metadata": {
    "collapsed": false,
    "pycharm": {
     "is_executing": true
    }
   }
  },
  {
   "cell_type": "code",
   "execution_count": null,
   "outputs": [],
   "source": [],
   "metadata": {
    "collapsed": false
   }
  }
 ],
 "metadata": {
  "kernelspec": {
   "display_name": "Python 3",
   "language": "python",
   "name": "python3"
  },
  "language_info": {
   "codemirror_mode": {
    "name": "ipython",
    "version": 2
   },
   "file_extension": ".py",
   "mimetype": "text/x-python",
   "name": "python",
   "nbconvert_exporter": "python",
   "pygments_lexer": "ipython2",
   "version": "2.7.6"
  }
 },
 "nbformat": 4,
 "nbformat_minor": 0
}
