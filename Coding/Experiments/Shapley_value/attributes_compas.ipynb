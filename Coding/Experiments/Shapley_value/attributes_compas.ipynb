{
 "cells": [
  {
   "cell_type": "code",
   "execution_count": 1,
   "metadata": {
    "collapsed": true
   },
   "outputs": [],
   "source": [
    "import numpy as np\n",
    "import pandas as pd\n",
    "from sklearn.tree import DecisionTreeClassifier\n",
    "from sklearn.model_selection import train_test_split\n",
    "from sklearn.metrics import accuracy_score\n"
   ]
  },
  {
   "cell_type": "code",
   "execution_count": 13,
   "outputs": [
    {
     "data": {
      "text/plain": "['name',\n 'FirstName',\n 'LastName',\n 'sex',\n 'DateOfBirth',\n 'age',\n 'race',\n 'juv_fel_count',\n 'decile_score',\n 'juv_misd_count',\n 'juv_other_count',\n 'priors_count',\n 'days_b_screening_arrest',\n 'c_days_from_compas',\n 'c_charge_degree',\n 'is_recid',\n 'is_violent_recid',\n 'v_decile_score',\n 'priors_count_C',\n 'start',\n 'end',\n 'event',\n 'two_year_recid',\n 'Violence_score',\n 'Recidivism_score',\n 'MarriageStatus',\n 'age_binary',\n 'age_bucketized',\n 'sex_binary',\n 'race_C']"
     },
     "execution_count": 13,
     "metadata": {},
     "output_type": "execute_result"
    }
   ],
   "source": [
    "\n",
    "compas_data_original_value = pd.read_csv(r\"../../../InputData/CompasData/ForRanking/CompasData_original_classified.csv\")\n",
    "\n",
    "compas_data_original_value.columns.to_list()\n"
   ],
   "metadata": {
    "collapsed": false
   }
  },
  {
   "cell_type": "code",
   "execution_count": 14,
   "outputs": [
    {
     "data": {
      "text/plain": "               age  juv_fel_count  decile_score  juv_misd_count  \\\ncount  6889.000000    6889.000000   6889.000000     6889.000000   \nmean     34.869792       0.068225      4.507621        0.090289   \nstd      11.924183       0.480444      2.855803        0.484343   \nmin      18.000000       0.000000      1.000000        0.000000   \n25%      25.000000       0.000000      2.000000        0.000000   \n50%      31.000000       0.000000      4.000000        0.000000   \n75%      43.000000       0.000000      7.000000        0.000000   \nmax      83.000000      20.000000     10.000000       13.000000   \n\n       juv_other_count  priors_count  days_b_screening_arrest  \\\ncount      6889.000000   6889.000000              6595.000000   \nmean          0.111047      3.466686                 2.206065   \nstd           0.508643      4.881592                71.840165   \nmin           0.000000      0.000000              -414.000000   \n25%           0.000000      0.000000                -1.000000   \n50%           0.000000      2.000000                -1.000000   \n75%           0.000000      5.000000                -1.000000   \nmax          17.000000     38.000000              1057.000000   \n\n       c_days_from_compas     is_recid  is_violent_recid  ...        start  \\\ncount         6868.000000  6889.000000       6889.000000  ...  6889.000000   \nmean            57.663221     0.479895          0.112353  ...    11.567281   \nstd            331.867889     0.499632          0.315823  ...    47.454454   \nmin              0.000000     0.000000          0.000000  ...     0.000000   \n25%              1.000000     0.000000          0.000000  ...     0.000000   \n50%              1.000000     0.000000          0.000000  ...     0.000000   \n75%              2.000000     1.000000          0.000000  ...     2.000000   \nmax           9485.000000     1.000000          1.000000  ...   937.000000   \n\n               end        event  two_year_recid  Violence_score  \\\ncount  6889.000000  6889.000000     6889.000000     6889.000000   \nmean    554.479315     0.382204        0.450428       -2.368951   \nstd     399.199550     0.485961        0.497573        0.871101   \nmin       0.000000     0.000000        0.000000       -4.630000   \n25%     149.000000     0.000000        0.000000       -2.990000   \n50%     532.000000     0.000000        0.000000       -2.330000   \n75%     914.000000     1.000000        1.000000       -1.740000   \nmax    1186.000000     1.000000        1.000000        0.930000   \n\n       Recidivism_score   age_binary  age_bucketized   sex_binary       race_C  \ncount       6889.000000  6889.000000     6889.000000  6889.000000  6889.000000  \nmean          -0.693594     0.385978        0.385978     0.192771     0.635070  \nstd            0.843544     0.486861        0.486861     0.394503     0.725407  \nmin           -3.000000     0.000000        0.000000     0.000000     0.000000  \n25%           -1.280000     0.000000        0.000000     0.000000     0.000000  \n50%           -0.640000     0.000000        0.000000     0.000000     0.000000  \n75%           -0.080000     1.000000        1.000000     0.000000     1.000000  \nmax            1.690000     1.000000        1.000000     1.000000     2.000000  \n\n[8 rows x 22 columns]",
      "text/html": "<div>\n<style scoped>\n    .dataframe tbody tr th:only-of-type {\n        vertical-align: middle;\n    }\n\n    .dataframe tbody tr th {\n        vertical-align: top;\n    }\n\n    .dataframe thead th {\n        text-align: right;\n    }\n</style>\n<table border=\"1\" class=\"dataframe\">\n  <thead>\n    <tr style=\"text-align: right;\">\n      <th></th>\n      <th>age</th>\n      <th>juv_fel_count</th>\n      <th>decile_score</th>\n      <th>juv_misd_count</th>\n      <th>juv_other_count</th>\n      <th>priors_count</th>\n      <th>days_b_screening_arrest</th>\n      <th>c_days_from_compas</th>\n      <th>is_recid</th>\n      <th>is_violent_recid</th>\n      <th>...</th>\n      <th>start</th>\n      <th>end</th>\n      <th>event</th>\n      <th>two_year_recid</th>\n      <th>Violence_score</th>\n      <th>Recidivism_score</th>\n      <th>age_binary</th>\n      <th>age_bucketized</th>\n      <th>sex_binary</th>\n      <th>race_C</th>\n    </tr>\n  </thead>\n  <tbody>\n    <tr>\n      <th>count</th>\n      <td>6889.000000</td>\n      <td>6889.000000</td>\n      <td>6889.000000</td>\n      <td>6889.000000</td>\n      <td>6889.000000</td>\n      <td>6889.000000</td>\n      <td>6595.000000</td>\n      <td>6868.000000</td>\n      <td>6889.000000</td>\n      <td>6889.000000</td>\n      <td>...</td>\n      <td>6889.000000</td>\n      <td>6889.000000</td>\n      <td>6889.000000</td>\n      <td>6889.000000</td>\n      <td>6889.000000</td>\n      <td>6889.000000</td>\n      <td>6889.000000</td>\n      <td>6889.000000</td>\n      <td>6889.000000</td>\n      <td>6889.000000</td>\n    </tr>\n    <tr>\n      <th>mean</th>\n      <td>34.869792</td>\n      <td>0.068225</td>\n      <td>4.507621</td>\n      <td>0.090289</td>\n      <td>0.111047</td>\n      <td>3.466686</td>\n      <td>2.206065</td>\n      <td>57.663221</td>\n      <td>0.479895</td>\n      <td>0.112353</td>\n      <td>...</td>\n      <td>11.567281</td>\n      <td>554.479315</td>\n      <td>0.382204</td>\n      <td>0.450428</td>\n      <td>-2.368951</td>\n      <td>-0.693594</td>\n      <td>0.385978</td>\n      <td>0.385978</td>\n      <td>0.192771</td>\n      <td>0.635070</td>\n    </tr>\n    <tr>\n      <th>std</th>\n      <td>11.924183</td>\n      <td>0.480444</td>\n      <td>2.855803</td>\n      <td>0.484343</td>\n      <td>0.508643</td>\n      <td>4.881592</td>\n      <td>71.840165</td>\n      <td>331.867889</td>\n      <td>0.499632</td>\n      <td>0.315823</td>\n      <td>...</td>\n      <td>47.454454</td>\n      <td>399.199550</td>\n      <td>0.485961</td>\n      <td>0.497573</td>\n      <td>0.871101</td>\n      <td>0.843544</td>\n      <td>0.486861</td>\n      <td>0.486861</td>\n      <td>0.394503</td>\n      <td>0.725407</td>\n    </tr>\n    <tr>\n      <th>min</th>\n      <td>18.000000</td>\n      <td>0.000000</td>\n      <td>1.000000</td>\n      <td>0.000000</td>\n      <td>0.000000</td>\n      <td>0.000000</td>\n      <td>-414.000000</td>\n      <td>0.000000</td>\n      <td>0.000000</td>\n      <td>0.000000</td>\n      <td>...</td>\n      <td>0.000000</td>\n      <td>0.000000</td>\n      <td>0.000000</td>\n      <td>0.000000</td>\n      <td>-4.630000</td>\n      <td>-3.000000</td>\n      <td>0.000000</td>\n      <td>0.000000</td>\n      <td>0.000000</td>\n      <td>0.000000</td>\n    </tr>\n    <tr>\n      <th>25%</th>\n      <td>25.000000</td>\n      <td>0.000000</td>\n      <td>2.000000</td>\n      <td>0.000000</td>\n      <td>0.000000</td>\n      <td>0.000000</td>\n      <td>-1.000000</td>\n      <td>1.000000</td>\n      <td>0.000000</td>\n      <td>0.000000</td>\n      <td>...</td>\n      <td>0.000000</td>\n      <td>149.000000</td>\n      <td>0.000000</td>\n      <td>0.000000</td>\n      <td>-2.990000</td>\n      <td>-1.280000</td>\n      <td>0.000000</td>\n      <td>0.000000</td>\n      <td>0.000000</td>\n      <td>0.000000</td>\n    </tr>\n    <tr>\n      <th>50%</th>\n      <td>31.000000</td>\n      <td>0.000000</td>\n      <td>4.000000</td>\n      <td>0.000000</td>\n      <td>0.000000</td>\n      <td>2.000000</td>\n      <td>-1.000000</td>\n      <td>1.000000</td>\n      <td>0.000000</td>\n      <td>0.000000</td>\n      <td>...</td>\n      <td>0.000000</td>\n      <td>532.000000</td>\n      <td>0.000000</td>\n      <td>0.000000</td>\n      <td>-2.330000</td>\n      <td>-0.640000</td>\n      <td>0.000000</td>\n      <td>0.000000</td>\n      <td>0.000000</td>\n      <td>0.000000</td>\n    </tr>\n    <tr>\n      <th>75%</th>\n      <td>43.000000</td>\n      <td>0.000000</td>\n      <td>7.000000</td>\n      <td>0.000000</td>\n      <td>0.000000</td>\n      <td>5.000000</td>\n      <td>-1.000000</td>\n      <td>2.000000</td>\n      <td>1.000000</td>\n      <td>0.000000</td>\n      <td>...</td>\n      <td>2.000000</td>\n      <td>914.000000</td>\n      <td>1.000000</td>\n      <td>1.000000</td>\n      <td>-1.740000</td>\n      <td>-0.080000</td>\n      <td>1.000000</td>\n      <td>1.000000</td>\n      <td>0.000000</td>\n      <td>1.000000</td>\n    </tr>\n    <tr>\n      <th>max</th>\n      <td>83.000000</td>\n      <td>20.000000</td>\n      <td>10.000000</td>\n      <td>13.000000</td>\n      <td>17.000000</td>\n      <td>38.000000</td>\n      <td>1057.000000</td>\n      <td>9485.000000</td>\n      <td>1.000000</td>\n      <td>1.000000</td>\n      <td>...</td>\n      <td>937.000000</td>\n      <td>1186.000000</td>\n      <td>1.000000</td>\n      <td>1.000000</td>\n      <td>0.930000</td>\n      <td>1.690000</td>\n      <td>1.000000</td>\n      <td>1.000000</td>\n      <td>1.000000</td>\n      <td>2.000000</td>\n    </tr>\n  </tbody>\n</table>\n<p>8 rows × 22 columns</p>\n</div>"
     },
     "execution_count": 14,
     "metadata": {},
     "output_type": "execute_result"
    }
   ],
   "source": [
    "compas_data_original_value.describe()"
   ],
   "metadata": {
    "collapsed": false
   }
  },
  {
   "cell_type": "code",
   "execution_count": 15,
   "outputs": [
    {
     "data": {
      "text/plain": "['juv_fel_count',\n 'decile_score',\n 'juv_misd_count',\n 'juv_other_count',\n 'priors_count',\n 'days_b_screening_arrest',\n 'c_days_from_compas',\n 'c_charge_degree',\n 'is_recid',\n 'is_violent_recid',\n 'v_decile_score',\n 'start',\n 'end',\n 'two_year_recid',\n 'Violence_score',\n 'Recidivism_score',\n 'MarriageStatus',\n 'age_binary',\n 'age_bucketized',\n 'sex_binary',\n 'race_C',\n 'score',\n 'rank',\n 'juv_fel_count_C',\n 'decile_score_C',\n 'juv_misd_count_C',\n 'juv_other_count_C',\n 'priors_count_C',\n 'days_b_screening_arrest_C',\n 'c_days_from_compas_C',\n 'c_charge_degree_C',\n 'v_decile_score_C',\n 'start_C',\n 'end_C',\n 'event_C',\n 'MarriageStatus_C']"
     },
     "execution_count": 15,
     "metadata": {},
     "output_type": "execute_result"
    }
   ],
   "source": [
    "\n",
    "compas_cate_ranked = pd.read_csv(r\"../../../InputData/CompasData/general/CompasData_categorized_ranked.csv\")\n",
    "compas_cate_ranked.columns.to_list()\n"
   ],
   "metadata": {
    "collapsed": false
   }
  },
  {
   "cell_type": "code",
   "execution_count": 16,
   "outputs": [],
   "source": [
    "compas_cate_ranked['age'] = compas_data_original_value['age']"
   ],
   "metadata": {
    "collapsed": false
   }
  },
  {
   "cell_type": "code",
   "execution_count": 17,
   "outputs": [],
   "source": [
    "# compas_cate_ranked['c_days_from_compas_normalized'] = compas_cate_ranked['c_days_from_compas']\n",
    "# compas_cate_ranked['c_days_from_compas'] = compas_data_original_value['c_days_from_compas']"
   ],
   "metadata": {
    "collapsed": false
   }
  },
  {
   "cell_type": "code",
   "execution_count": null,
   "outputs": [],
   "source": [],
   "metadata": {
    "collapsed": false
   }
  },
  {
   "cell_type": "code",
   "execution_count": 18,
   "outputs": [
    {
     "data": {
      "text/plain": "       juv_fel_count  decile_score  juv_misd_count  juv_other_count  \\\ncount    6889.000000   6889.000000     6889.000000      6889.000000   \nmean        0.068225      4.507621        0.090289         0.111047   \nstd         0.480444      2.855803        0.484343         0.508643   \nmin         0.000000      1.000000        0.000000         0.000000   \n25%         0.000000      2.000000        0.000000         0.000000   \n50%         0.000000      4.000000        0.000000         0.000000   \n75%         0.000000      7.000000        0.000000         0.000000   \nmax        20.000000     10.000000       13.000000        17.000000   \n\n       priors_count  days_b_screening_arrest  c_days_from_compas     is_recid  \\\ncount   6889.000000              6595.000000         6868.000000  6889.000000   \nmean       3.466686                 2.206065           57.663221     0.479895   \nstd        4.881592                71.840165          331.867889     0.499632   \nmin        0.000000              -414.000000            0.000000     0.000000   \n25%        0.000000                -1.000000            1.000000     0.000000   \n50%        2.000000                -1.000000            1.000000     0.000000   \n75%        5.000000                -1.000000            2.000000     1.000000   \nmax       38.000000              1057.000000         9485.000000     1.000000   \n\n       is_violent_recid  v_decile_score  ...  priors_count_C  \\\ncount       6889.000000     6889.000000  ...     6889.000000   \nmean           0.112353        3.691682  ...        0.123240   \nstd            0.315823        2.512545  ...        0.392358   \nmin            0.000000        1.000000  ...        0.000000   \n25%            0.000000        1.000000  ...        0.000000   \n50%            0.000000        3.000000  ...        0.000000   \n75%            0.000000        5.000000  ...        0.000000   \nmax            1.000000       10.000000  ...        3.000000   \n\n       days_b_screening_arrest_C  c_days_from_compas_C  c_charge_degree_C  \\\ncount                6889.000000           6889.000000        6889.000000   \nmean                    0.326462              0.009145           0.354914   \nstd                     0.562936              0.126615           0.478522   \nmin                     0.000000              0.000000           0.000000   \n25%                     0.000000              0.000000           0.000000   \n50%                     0.000000              0.000000           0.000000   \n75%                     1.000000              0.000000           1.000000   \nmax                     2.000000              2.000000           1.000000   \n\n       v_decile_score_C      start_C        end_C      event_C  \\\ncount       6889.000000  6889.000000  6889.000000  6889.000000   \nmean           0.244448     0.006677     0.928727     0.382204   \nstd            0.429790     0.094639     0.898929     0.485961   \nmin            0.000000     0.000000     0.000000     0.000000   \n25%            0.000000     0.000000     0.000000     0.000000   \n50%            0.000000     0.000000     1.000000     0.000000   \n75%            0.000000     0.000000     2.000000     1.000000   \nmax            1.000000     2.000000     2.000000     1.000000   \n\n       MarriageStatus_C          age  \ncount       6889.000000  6889.000000  \nmean           0.576862    34.869792  \nstd            1.439728    11.924183  \nmin            0.000000    18.000000  \n25%            0.000000    25.000000  \n50%            0.000000    31.000000  \n75%            0.000000    43.000000  \nmax            6.000000    83.000000  \n\n[8 rows x 35 columns]",
      "text/html": "<div>\n<style scoped>\n    .dataframe tbody tr th:only-of-type {\n        vertical-align: middle;\n    }\n\n    .dataframe tbody tr th {\n        vertical-align: top;\n    }\n\n    .dataframe thead th {\n        text-align: right;\n    }\n</style>\n<table border=\"1\" class=\"dataframe\">\n  <thead>\n    <tr style=\"text-align: right;\">\n      <th></th>\n      <th>juv_fel_count</th>\n      <th>decile_score</th>\n      <th>juv_misd_count</th>\n      <th>juv_other_count</th>\n      <th>priors_count</th>\n      <th>days_b_screening_arrest</th>\n      <th>c_days_from_compas</th>\n      <th>is_recid</th>\n      <th>is_violent_recid</th>\n      <th>v_decile_score</th>\n      <th>...</th>\n      <th>priors_count_C</th>\n      <th>days_b_screening_arrest_C</th>\n      <th>c_days_from_compas_C</th>\n      <th>c_charge_degree_C</th>\n      <th>v_decile_score_C</th>\n      <th>start_C</th>\n      <th>end_C</th>\n      <th>event_C</th>\n      <th>MarriageStatus_C</th>\n      <th>age</th>\n    </tr>\n  </thead>\n  <tbody>\n    <tr>\n      <th>count</th>\n      <td>6889.000000</td>\n      <td>6889.000000</td>\n      <td>6889.000000</td>\n      <td>6889.000000</td>\n      <td>6889.000000</td>\n      <td>6595.000000</td>\n      <td>6868.000000</td>\n      <td>6889.000000</td>\n      <td>6889.000000</td>\n      <td>6889.000000</td>\n      <td>...</td>\n      <td>6889.000000</td>\n      <td>6889.000000</td>\n      <td>6889.000000</td>\n      <td>6889.000000</td>\n      <td>6889.000000</td>\n      <td>6889.000000</td>\n      <td>6889.000000</td>\n      <td>6889.000000</td>\n      <td>6889.000000</td>\n      <td>6889.000000</td>\n    </tr>\n    <tr>\n      <th>mean</th>\n      <td>0.068225</td>\n      <td>4.507621</td>\n      <td>0.090289</td>\n      <td>0.111047</td>\n      <td>3.466686</td>\n      <td>2.206065</td>\n      <td>57.663221</td>\n      <td>0.479895</td>\n      <td>0.112353</td>\n      <td>3.691682</td>\n      <td>...</td>\n      <td>0.123240</td>\n      <td>0.326462</td>\n      <td>0.009145</td>\n      <td>0.354914</td>\n      <td>0.244448</td>\n      <td>0.006677</td>\n      <td>0.928727</td>\n      <td>0.382204</td>\n      <td>0.576862</td>\n      <td>34.869792</td>\n    </tr>\n    <tr>\n      <th>std</th>\n      <td>0.480444</td>\n      <td>2.855803</td>\n      <td>0.484343</td>\n      <td>0.508643</td>\n      <td>4.881592</td>\n      <td>71.840165</td>\n      <td>331.867889</td>\n      <td>0.499632</td>\n      <td>0.315823</td>\n      <td>2.512545</td>\n      <td>...</td>\n      <td>0.392358</td>\n      <td>0.562936</td>\n      <td>0.126615</td>\n      <td>0.478522</td>\n      <td>0.429790</td>\n      <td>0.094639</td>\n      <td>0.898929</td>\n      <td>0.485961</td>\n      <td>1.439728</td>\n      <td>11.924183</td>\n    </tr>\n    <tr>\n      <th>min</th>\n      <td>0.000000</td>\n      <td>1.000000</td>\n      <td>0.000000</td>\n      <td>0.000000</td>\n      <td>0.000000</td>\n      <td>-414.000000</td>\n      <td>0.000000</td>\n      <td>0.000000</td>\n      <td>0.000000</td>\n      <td>1.000000</td>\n      <td>...</td>\n      <td>0.000000</td>\n      <td>0.000000</td>\n      <td>0.000000</td>\n      <td>0.000000</td>\n      <td>0.000000</td>\n      <td>0.000000</td>\n      <td>0.000000</td>\n      <td>0.000000</td>\n      <td>0.000000</td>\n      <td>18.000000</td>\n    </tr>\n    <tr>\n      <th>25%</th>\n      <td>0.000000</td>\n      <td>2.000000</td>\n      <td>0.000000</td>\n      <td>0.000000</td>\n      <td>0.000000</td>\n      <td>-1.000000</td>\n      <td>1.000000</td>\n      <td>0.000000</td>\n      <td>0.000000</td>\n      <td>1.000000</td>\n      <td>...</td>\n      <td>0.000000</td>\n      <td>0.000000</td>\n      <td>0.000000</td>\n      <td>0.000000</td>\n      <td>0.000000</td>\n      <td>0.000000</td>\n      <td>0.000000</td>\n      <td>0.000000</td>\n      <td>0.000000</td>\n      <td>25.000000</td>\n    </tr>\n    <tr>\n      <th>50%</th>\n      <td>0.000000</td>\n      <td>4.000000</td>\n      <td>0.000000</td>\n      <td>0.000000</td>\n      <td>2.000000</td>\n      <td>-1.000000</td>\n      <td>1.000000</td>\n      <td>0.000000</td>\n      <td>0.000000</td>\n      <td>3.000000</td>\n      <td>...</td>\n      <td>0.000000</td>\n      <td>0.000000</td>\n      <td>0.000000</td>\n      <td>0.000000</td>\n      <td>0.000000</td>\n      <td>0.000000</td>\n      <td>1.000000</td>\n      <td>0.000000</td>\n      <td>0.000000</td>\n      <td>31.000000</td>\n    </tr>\n    <tr>\n      <th>75%</th>\n      <td>0.000000</td>\n      <td>7.000000</td>\n      <td>0.000000</td>\n      <td>0.000000</td>\n      <td>5.000000</td>\n      <td>-1.000000</td>\n      <td>2.000000</td>\n      <td>1.000000</td>\n      <td>0.000000</td>\n      <td>5.000000</td>\n      <td>...</td>\n      <td>0.000000</td>\n      <td>1.000000</td>\n      <td>0.000000</td>\n      <td>1.000000</td>\n      <td>0.000000</td>\n      <td>0.000000</td>\n      <td>2.000000</td>\n      <td>1.000000</td>\n      <td>0.000000</td>\n      <td>43.000000</td>\n    </tr>\n    <tr>\n      <th>max</th>\n      <td>20.000000</td>\n      <td>10.000000</td>\n      <td>13.000000</td>\n      <td>17.000000</td>\n      <td>38.000000</td>\n      <td>1057.000000</td>\n      <td>9485.000000</td>\n      <td>1.000000</td>\n      <td>1.000000</td>\n      <td>10.000000</td>\n      <td>...</td>\n      <td>3.000000</td>\n      <td>2.000000</td>\n      <td>2.000000</td>\n      <td>1.000000</td>\n      <td>1.000000</td>\n      <td>2.000000</td>\n      <td>2.000000</td>\n      <td>1.000000</td>\n      <td>6.000000</td>\n      <td>83.000000</td>\n    </tr>\n  </tbody>\n</table>\n<p>8 rows × 35 columns</p>\n</div>"
     },
     "execution_count": 18,
     "metadata": {},
     "output_type": "execute_result"
    }
   ],
   "source": [
    "compas_cate_ranked.describe()"
   ],
   "metadata": {
    "collapsed": false
   }
  },
  {
   "cell_type": "code",
   "execution_count": 19,
   "outputs": [],
   "source": [
    "compas_cate_ranked.to_csv(r\"../../../InputData/CompasData/general/CompasData_categorized_ranked.csv\", index=False)"
   ],
   "metadata": {
    "collapsed": false
   }
  },
  {
   "cell_type": "code",
   "execution_count": null,
   "outputs": [],
   "source": [],
   "metadata": {
    "collapsed": false
   }
  }
 ],
 "metadata": {
  "kernelspec": {
   "display_name": "Python 3",
   "language": "python",
   "name": "python3"
  },
  "language_info": {
   "codemirror_mode": {
    "name": "ipython",
    "version": 2
   },
   "file_extension": ".py",
   "mimetype": "text/x-python",
   "name": "python",
   "nbconvert_exporter": "python",
   "pygments_lexer": "ipython2",
   "version": "2.7.6"
  }
 },
 "nbformat": 4,
 "nbformat_minor": 0
}
