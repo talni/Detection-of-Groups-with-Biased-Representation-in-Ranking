{
 "cells": [
  {
   "cell_type": "code",
   "execution_count": 1,
   "metadata": {
    "collapsed": true
   },
   "outputs": [],
   "source": [
    "import numpy as np\n",
    "import copy\n",
    "import pandas as pd\n",
    "import sys\n",
    "import math\n",
    "from itertools import combinations\n",
    "from Algorithms import pattern_count\n",
    "import time\n",
    "from Algorithms import NewAlgRanking_19_20211216 as newalg\n",
    "from Algorithms import NaiveAlgRanking_4_20211213 as naivealg\n",
    "from sklearn.linear_model import LinearRegression\n",
    "import shap"
   ]
  },
  {
   "cell_type": "code",
   "execution_count": 2,
   "outputs": [
    {
     "data": {
      "text/plain": "'/Users/jinyangli/Desktop/Project1_UnfairlyTreatedGroups/UnfairlyTreatedGroupDetection/Coding/Experiments/Shapley_value'"
     },
     "execution_count": 2,
     "metadata": {},
     "output_type": "execute_result"
    }
   ],
   "source": [
    "import os\n",
    "os.getcwd()\n"
   ],
   "metadata": {
    "collapsed": false
   }
  },
  {
   "cell_type": "markdown",
   "source": [
    "# student"
   ],
   "metadata": {
    "collapsed": false
   }
  },
  {
   "cell_type": "code",
   "execution_count": 6,
   "outputs": [],
   "source": [
    "selected_attributes = [\"school_C\", \"sex_C\", \"age_C\", \"address_C\", \"famsize_C\",\n",
    "                       \"Pstatus_C\", \"Medu_C\", \"Fedu_C\", \"Mjob_C\", \"Fjob_C\",\n",
    "                       \"reason_C\", \"health_C\", \"absences_C\", \"G1_C\", \"G2_C\", \"G3_C\",\n",
    "]"
   ],
   "metadata": {
    "collapsed": false
   }
  },
  {
   "cell_type": "code",
   "execution_count": 8,
   "outputs": [],
   "source": [
    "group = [0, -1, -1, -1, -1, -1, -1, 1, -1, -1, -1, -1, -1, -1, -1, -1]\n",
    "size = 3\n",
    "shap_value = [-2.68247500e+00 , 8.27285364e-01, -1.27111502e+00 , 3.43267018e+00,\n",
    "  1.19931128e+00, -9.04910272e-01 , 4.66428572e-01,  1.31032907e+00\n",
    " -9.78268514e-01, -1.82033736e+00 , 2.09973720e-03, -2.68848536e-01\n",
    " -2.15227184e-01, -3.96324469e+01 ,-3.30150525e+01, -1.29221055e+02]\n",
    "# \"reason_C\"  2.09973720e-03"
   ],
   "metadata": {
    "collapsed": false
   }
  },
  {
   "cell_type": "code",
   "execution_count": null,
   "outputs": [],
   "source": [],
   "metadata": {
    "collapsed": false
   }
  }
 ],
 "metadata": {
  "kernelspec": {
   "display_name": "Python 3",
   "language": "python",
   "name": "python3"
  },
  "language_info": {
   "codemirror_mode": {
    "name": "ipython",
    "version": 2
   },
   "file_extension": ".py",
   "mimetype": "text/x-python",
   "name": "python",
   "nbconvert_exporter": "python",
   "pygments_lexer": "ipython2",
   "version": "2.7.6"
  }
 },
 "nbformat": 4,
 "nbformat_minor": 0
}
